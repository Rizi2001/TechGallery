{
 "cells": [
  {
   "cell_type": "markdown",
   "metadata": {},
   "source": [
    " "
   ]
  },
  {
   "cell_type": "markdown",
   "metadata": {},
   "source": [
    "### Importing libraries"
   ]
  },
  {
   "cell_type": "code",
   "execution_count": 12,
   "metadata": {},
   "outputs": [],
   "source": [
    "import librosa \n",
    "import soundfile as sf\n",
    "import numpy as np\n",
    "import os\n",
    "import statistics\n",
    "import pandas as pd\n",
    "import matplotlib.pyplot as plt"
   ]
  },
  {
   "cell_type": "markdown",
   "metadata": {},
   "source": [
    "### Extracting features MFCC, Chroma, Mel Spectrogram, Tonnetz & Contrast Spectrogram and storing them in a horizontal numpy stack"
   ]
  },
  {
   "cell_type": "code",
   "execution_count": 2,
   "metadata": {},
   "outputs": [],
   "source": [
    "def extract_feature(voice, sr):\n",
    "    stft=np.abs(librosa.stft(voice))\n",
    "    result = np.array([])\n",
    "\n",
    "    mfccs=np.mean(librosa.feature.mfcc(y=voice, sr=sr, n_mfcc=40).T, axis=0)\n",
    "    result=np.hstack((result, mfccs))\n",
    "\n",
    "    chroma=np.mean(librosa.feature.chroma_stft(S=stft, sr=sr).T,axis=0)\n",
    "    result=np.hstack((result, chroma))\n",
    "\n",
    "    mel=np.mean(librosa.feature.melspectrogram(voice, sr=sr).T,axis=0)\n",
    "    result=np.hstack((result, mel))\n",
    "    \n",
    "    tonnetz = np.mean(librosa.feature.tonnetz(voice, sr).T,axis=0)\n",
    "    result=np.hstack((result, tonnetz))\n",
    "    \n",
    "    contrast = np.mean(librosa.feature.spectral_contrast(voice, sr).T,axis=0)\n",
    "    result=np.hstack((result, contrast))\n",
    "\n",
    "    return result"
   ]
  },
  {
   "cell_type": "markdown",
   "metadata": {},
   "source": [
    "### Loading the Train and Test Data Set provided from its respective folders and assigning its Labels side by side"
   ]
  },
  {
   "cell_type": "code",
   "execution_count": 3,
   "metadata": {},
   "outputs": [],
   "source": [
    "def load_data(PATH, x, y):\n",
    "    for file in os.listdir(PATH):\n",
    "    \n",
    "        PATH_s = PATH + file\n",
    "        \n",
    "        if (PATH == \"C:\\\\Users\\\\Lenovo\\\\SERDataset\\\\Train\\\\Happy\\\\\"):\n",
    "            emotion = \"Happy\"\n",
    "        elif (PATH == \"C:\\\\Users\\\\Lenovo\\\\SERDataset\\\\Train\\\\Sad\\\\\"):\n",
    "            emotion = \"Sad\"\n",
    "        elif (PATH == \"C:\\\\Users\\\\Lenovo\\\\SERDataset\\\\Train\\\\Angry\\\\\"):\n",
    "            emotion = \"Angry\"\n",
    "        elif (PATH == \"C:\\\\Users\\\\Lenovo\\\\SERDataset\\\\Train\\\\Neutral\\\\\"):\n",
    "            emotion = \"Neutral\"\n",
    "        elif (PATH == \"C:\\\\Users\\\\Lenovo\\\\SERDataset\\\\Test\\\\Angry\\\\\"):\n",
    "            emotion = \"Angry\"\n",
    "        elif(PATH == \"C:\\\\Users\\\\Lenovo\\\\SERDataset\\\\Test\\\\Sad\\\\\"):\n",
    "            emotion = \"Sad\"\n",
    "        elif(PATH == \"C:\\\\Users\\\\Lenovo\\\\SERDataset\\\\Test\\\\Happy\\\\\"):\n",
    "            emotion = \"Happy\"\n",
    "        elif (PATH == \"C:\\\\Users\\\\Lenovo\\\\SERDataset\\\\Test\\\\Neutral\\\\\"):\n",
    "            emotion = \"Neutral\"\n",
    "        else:\n",
    "            emotion = \"-\"\n",
    "\n",
    "        voice, sr = sf.read(PATH_s, dtype='float32')\n",
    "    \n",
    "        feature = extract_feature(voice, sr) \n",
    "        \n",
    "        x.append(feature)\n",
    "        y.append(emotion)"
   ]
  },
  {
   "cell_type": "markdown",
   "metadata": {},
   "source": [
    "### Saving the features and Labels for the Train data using the above function"
   ]
  },
  {
   "cell_type": "code",
   "execution_count": 25,
   "metadata": {},
   "outputs": [],
   "source": [
    "PATH_Happy = \"C:\\\\Users\\\\Lenovo\\\\SERDataset\\\\Train\\\\Happy\\\\\"\n",
    "PATH_Sad = \"C:\\\\Users\\\\Lenovo\\\\SERDataset\\\\Train\\\\Sad\\\\\"\n",
    "PATH_Angry = \"C:\\\\Users\\\\Lenovo\\\\SERDataset\\\\Train\\\\Angry\\\\\"\n",
    "PATH_Neutral = \"C:\\\\Users\\\\Lenovo\\\\SERDataset\\\\Train\\\\Neutral\\\\\"\n",
    "\n",
    "x_train_happy = []\n",
    "y_train_happy = []\n",
    "x_train_angry = []\n",
    "y_train_angry = []\n",
    "x_train_sad = []\n",
    "y_train_sad = []\n",
    "x_train_neutral = []\n",
    "y_train_neutral = []\n",
    "\n",
    "load_data(PATH_Happy, x_train_happy, y_train_happy)\n",
    "load_data(PATH_Angry, x_train_angry, y_train_angry)\n",
    "load_data(PATH_Sad, x_train_sad, y_train_sad)\n",
    "load_data(PATH_Neutral, x_train_neutral, y_train_neutral)"
   ]
  },
  {
   "cell_type": "markdown",
   "metadata": {},
   "source": [
    "### Saving the features and Labels for the Test data using the above function"
   ]
  },
  {
   "cell_type": "code",
   "execution_count": 24,
   "metadata": {},
   "outputs": [],
   "source": [
    "PATH_Happy_Test = \"C:\\\\Users\\\\Lenovo\\\\SERDataset\\\\Test\\\\Happy\\\\\"\n",
    "PATH_Sad_Test = \"C:\\\\Users\\\\Lenovo\\\\SERDataset\\\\Test\\\\Sad\\\\\"\n",
    "PATH_Angry_Test = \"C:\\\\Users\\\\Lenovo\\\\SERDataset\\\\Test\\\\Angry\\\\\"\n",
    "PATH_Neutral_Test = \"C:\\\\Users\\\\Lenovo\\\\SERDataset\\\\Test\\\\Neutral\\\\\"\n",
    "\n",
    "x_test_happy = []\n",
    "y_test_happy = []\n",
    "x_test_angry = []\n",
    "y_test_angry = []\n",
    "x_test_sad = []\n",
    "y_test_sad = []\n",
    "x_test_neutral = []\n",
    "y_test_neutral = []\n",
    "\n",
    "load_data(PATH_Happy_Test, x_test_happy, y_test_happy)\n",
    "load_data(PATH_Angry_Test, x_test_angry, y_test_angry)\n",
    "load_data(PATH_Sad_Test, x_test_sad, y_test_sad)\n",
    "load_data(PATH_Neutral_Test, x_test_neutral, y_test_neutral)"
   ]
  },
  {
   "cell_type": "markdown",
   "metadata": {},
   "source": [
    "### Concatening all the lists of traning and testing with their sub lists"
   ]
  },
  {
   "cell_type": "code",
   "execution_count": 54,
   "metadata": {},
   "outputs": [],
   "source": [
    "x_train = x_train_happy + x_train_angry + x_train_sad + x_train_neutral\n",
    "y_train = y_train_happy + y_train_sad + y_train_angry + y_train_neutral \n",
    "\n",
    "x_test = x_test_happy + x_test_angry + x_test_sad + x_test_neutral\n",
    "y_test = y_test_happy + y_test_sad + y_test_angry + y_test_neutral \n",
    "\n",
    "# print(x_train)\n",
    "# print(y_train)\n",
    "# print(x_test)\n",
    "# print(y_test)"
   ]
  },
  {
   "cell_type": "markdown",
   "metadata": {},
   "source": [
    "### Collecting the total Train Data in a Pandas Data Frame"
   ]
  },
  {
   "cell_type": "code",
   "execution_count": 56,
   "metadata": {},
   "outputs": [],
   "source": [
    "x_tr = np.array(x_train)\n",
    "# print(x_tr.shape)\n",
    "\n",
    "row_len = int(x_tr.shape[0])\n",
    "# print(row_len)\n",
    "col_len = int(x_tr.shape[1])\n",
    "# print(col_len)\n",
    "half = int (col_len/2)\n",
    "\n",
    "left=[]\n",
    "right=[]\n",
    "\n",
    "for i in range(row_len):\n",
    "    r1=[]\n",
    "    r2=[]\n",
    "    \n",
    "    for j in range(len(x_tr[1])):\n",
    "        if (j<half):\n",
    "            r1.append(x_tr[i,j])\n",
    "        else:\n",
    "            r2.append(x_tr[i,j])\n",
    "            \n",
    "    left.append(statistics.mean(r1))\n",
    "    right.append(statistics.mean(r2))\n",
    "\n",
    "# print(left)\n",
    "# print(right)\n",
    "\n",
    "df = pd.DataFrame(list(zip(left, right, y_train)), columns=['Left', 'Right', 'Labels'])\n",
    "\n",
    "# print(df)"
   ]
  },
  {
   "cell_type": "markdown",
   "metadata": {},
   "source": [
    "### Plotting the above Data Frame using matplotlib.pyplot"
   ]
  },
  {
   "cell_type": "code",
   "execution_count": 13,
   "metadata": {},
   "outputs": [
    {
     "data": {
      "image/png": "[encoded data removed]",
      "text/plain": [
       "<Figure size 432x288 with 1 Axes>"
      ]
     },
     "metadata": {
      "needs_background": "light"
     },
     "output_type": "display_data"
    }
   ],
   "source": [
    "plt.scatter(df['Left'][df.Labels == 'Angry'], df['Right'][df.Labels == 'Angry'], color='orange', label='Angry')\n",
    "plt.scatter(df['Left'][df.Labels == 'Happy'], df['Right'][df.Labels == 'Happy'], color='blue', label='Happy')\n",
    "plt.scatter(df['Left'][df.Labels == 'Sad'], df['Right'][df.Labels == 'Sad'], color='green', label='Sad')\n",
    "plt.scatter(df['Left'][df.Labels == 'Neutral'], df['Right'][df.Labels == 'Neutral'], color='grey', label='Neutral')\n",
    "\n",
    "plt.xlabel('Left Half')\n",
    "plt.ylabel('Right Half')\n",
    "\n",
    "plt.legend()\n",
    "\n",
    "plt.show()"
   ]
  },
  {
   "cell_type": "markdown",
   "metadata": {},
   "source": [
    "### Assigning labels in integer form to the y_train & y_test list before applying ML"
   ]
  },
  {
   "cell_type": "code",
   "execution_count": 14,
   "metadata": {},
   "outputs": [],
   "source": [
    "from sklearn import preprocessing\n",
    "le = preprocessing.LabelEncoder()"
   ]
  },
  {
   "cell_type": "code",
   "execution_count": 49,
   "metadata": {},
   "outputs": [],
   "source": [
    "y_train_ML = le.fit(y_train)\n",
    "y_train_ML = le.transform(y_train)\n",
    "\n",
    "# print(y_train_ML)"
   ]
  },
  {
   "cell_type": "code",
   "execution_count": 50,
   "metadata": {},
   "outputs": [],
   "source": [
    "y_test_ML = le.fit(y_test)\n",
    "y_test_ML = le.transform(y_test)\n",
    "\n",
    "# print(y_test_ML)"
   ]
  },
  {
   "cell_type": "markdown",
   "metadata": {},
   "source": [
    "### Training the Machine Learning model using Support Vector Classifier "
   ]
  },
  {
   "cell_type": "code",
   "execution_count": 18,
   "metadata": {},
   "outputs": [
    {
     "data": {
      "text/plain": [
       "SVC(C=1, gamma=0.001, kernel='linear')"
      ]
     },
     "execution_count": 18,
     "metadata": {},
     "output_type": "execute_result"
    }
   ],
   "source": [
    "from sklearn.svm import SVC # \"Support vector classifier\"\n",
    "\n",
    "model = SVC(kernel='linear', gamma=0.001, C=1)\n",
    "model.fit(x_train, y_train_ML)"
   ]
  },
  {
   "cell_type": "markdown",
   "metadata": {},
   "source": [
    "### Obtaining the predicted labels of our Test Data"
   ]
  },
  {
   "cell_type": "code",
   "execution_count": 51,
   "metadata": {},
   "outputs": [],
   "source": [
    "pred = model.predict(x_test)\n",
    "\n",
    "# print(pred)"
   ]
  },
  {
   "cell_type": "markdown",
   "metadata": {},
   "source": [
    "### Calculating Accuracy of the model using Training Labels and Predicted Labels"
   ]
  },
  {
   "cell_type": "code",
   "execution_count": 20,
   "metadata": {},
   "outputs": [
    {
     "data": {
      "text/plain": [
       "0.9833333333333333"
      ]
     },
     "execution_count": 20,
     "metadata": {},
     "output_type": "execute_result"
    }
   ],
   "source": [
    "from sklearn.metrics import accuracy_score\n",
    "accuracy_score(y_test_ML, pred)"
   ]
  },
  {
   "cell_type": "markdown",
   "metadata": {},
   "source": [
    "### Predicting the Label for the file 'SM25_F34_S084.wav' using the above model"
   ]
  },
  {
   "cell_type": "code",
   "execution_count": 42,
   "metadata": {},
   "outputs": [],
   "source": [
    "x_test_single = []\n",
    "y_test_single = []\n",
    "\n",
    "voice, sr = sf.read('SM25_F34_S084.wav', dtype='float32')\n",
    "y_test_single.append('Sad')"
   ]
  },
  {
   "cell_type": "markdown",
   "metadata": {},
   "source": [
    "### Assigning 0 to the Label 'Sad' by performing transformation on it."
   ]
  },
  {
   "cell_type": "code",
   "execution_count": 52,
   "metadata": {},
   "outputs": [],
   "source": [
    "y_test_ML_single = le.fit(y_test_single)\n",
    "y_test_ML_single = le.transform(y_test_single)\n",
    "\n",
    "# print(y_test_ML_single)"
   ]
  },
  {
   "cell_type": "markdown",
   "metadata": {},
   "source": [
    "### Extracting the audio file's features and storing them in a x_test_single"
   ]
  },
  {
   "cell_type": "code",
   "execution_count": 53,
   "metadata": {},
   "outputs": [],
   "source": [
    "feature = extract_feature(voice, sr) \n",
    "feature\n",
    "\n",
    "x_test_single.append(feature)\n",
    "\n",
    "# print(x_test_single)\n",
    "# print(y_test_ML_single)"
   ]
  },
  {
   "cell_type": "markdown",
   "metadata": {},
   "source": [
    "### Predicting the Label for the given Test file from the 'Sad' directory"
   ]
  },
  {
   "cell_type": "code",
   "execution_count": 46,
   "metadata": {},
   "outputs": [],
   "source": [
    "pred1 = model.predict(x_test_single)"
   ]
  },
  {
   "cell_type": "markdown",
   "metadata": {},
   "source": [
    "### The model has predicted 0, which was earlier assigned to it's label (Sad)"
   ]
  },
  {
   "cell_type": "code",
   "execution_count": 47,
   "metadata": {},
   "outputs": [
    {
     "data": {
      "text/plain": [
       "array([0])"
      ]
     },
     "execution_count": 47,
     "metadata": {},
     "output_type": "execute_result"
    }
   ],
   "source": [
    "pred1"
   ]
  }
 ],
 "metadata": {
  "kernelspec": {
   "display_name": "Python 3",
   "language": "python",
   "name": "python3"
  },
  "language_info": {
   "codemirror_mode": {
    "name": "ipython",
    "version": 3
   },
   "file_extension": ".py",
   "mimetype": "text/x-python",
   "name": "python",
   "nbconvert_exporter": "python",
   "pygments_lexer": "ipython3",
   "version": "3.8.5"
  }
 },
 "nbformat": 4,
 "nbformat_minor": 4
}
