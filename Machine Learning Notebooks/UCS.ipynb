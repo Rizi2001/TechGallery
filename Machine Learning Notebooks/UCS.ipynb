{
 "cells": [
  {
   "cell_type": "code",
   "execution_count": 2,
   "metadata": {},
   "outputs": [],
   "source": [
    "import copy\n",
    "import queue as Q \n",
    "\n",
    "class Graph:\n",
    "\n",
    "    def __init__(self,nodes):\n",
    "        self.graph = dict() #contains all the adjacent nodes of each as key and value pair\n",
    "        self.cost_dict=dict()# contains cost of each edge traversal of (u,v)\n",
    "        self.final_dict=dict()#contains all the possible paths from start node s to goal node g with total cost\n",
    "        self.visited = [False]*nodes # List of Visited Nodes from Start \n",
    "\n",
    "    # u and v are nodes: edge u-->v with cost c \n",
    "    def addEdge(self,u,v,c):\n",
    "\n",
    "        if u not in self.graph:\n",
    "            qu = Q.PriorityQueue()\n",
    "            self.graph[u]=qu\n",
    "\n",
    "        self.graph[u].put(v)\n",
    "        self.cost_dict.update({(u,v):c})\n",
    "        \n",
    "        \n",
    "    def PrintG(self):\n",
    "        \n",
    "        print(\"Graph Edges\")\n",
    "        \n",
    "        for key,value in self.graph.items():\n",
    "            print (key,\"--->\",self.graph[key].queue)\n",
    "            \n",
    "        print(\"Graph Edges with Cost\")\n",
    "        \n",
    "        for j in self.cost_dict:\n",
    "            print (j,\"-->\",self.cost_dict[j])\n",
    "\n",
    "                \n",
    "            \n",
    "   # You need to implement this, you may need another function for recursion purposes\n",
    "    def SEP(self,path, goal, i, visited, cost,queue):\n",
    "        if(i==goal):\n",
    "            return self.final_dict[(path).value]\n",
    "        else:\n",
    "            for j in queue.get():\n",
    "                path.append(i)\n",
    "                #self.cost_dict = cost + self.cost_dict[j,i]\n",
    "                self.cost_dict.append(cost + self.cost_dict[j,i])\n",
    "                \n",
    "    \n",
    "    def UCS(self, s,goal):\n",
    "        self.visited = True;\n",
    "        queue = Q.PriorityQueue()\n",
    "        queue.put((0, s))\n",
    "        path = [s]\n",
    "        \n",
    "        for i in self.graph[s].queue:\n",
    "            #if(node not in self.visited):\n",
    "                #self.visited = True\n",
    "            #v = self.cost_dict[s,i]\n",
    "            \n",
    "            #self.SEP(path,goal,i,self.visited,v)\n",
    "            self.SEP((copy.deepcopy(path)),goal,i,(copy.deepcopy(self.visited)),(self.cost_dict[s,i]),queue)\n",
    "            #self.SEP(path,goal,i,self.visited,self.cost_dict[s,i]) \n",
    "            \n",
    "            \n",
    "            \n",
    "            \n",
    "        #I can't find the solutions of these two errors, please guide us in class.    \n",
    "            \n",
    "            \n",
    "            \n",
    "            \n",
    "    \n",
    "    # Find the most optimal path between start node to goal node\n",
    "    def Shortest_Path(self):\n",
    "        if bool(self.final_dict):\n",
    "            print (\"Shortest path: \",min(self.final_dict, key=self.final_dict.get))\n",
    "        else:\n",
    "            print (\"No Path exists\")\n",
    "    \n",
    "    # Display all the paths that is been discovered from start node to Goal node\n",
    "    def Display_Paths(self):\n",
    "        \n",
    "        \n",
    "        if bool(self.final_dict): # if there is any path\n",
    "            print(\"All the paths: \")\n",
    "            for i in self.final_dict:\n",
    "                print (\"path: \",i,\"cost: \",self.final_dict[i])\n",
    "        else:\n",
    "            print (\"No Path exist\")\n",
    "\n",
    "    "
   ]
  },
  {
   "cell_type": "code",
   "execution_count": 3,
   "metadata": {},
   "outputs": [],
   "source": [
    "g = Graph(10) "
   ]
  },
  {
   "cell_type": "code",
   "execution_count": 4,
   "metadata": {},
   "outputs": [],
   "source": [
    "g.addEdge(0, 1, 1); g.addEdge(0, 2, 1); g.addEdge(1, 3, 3);\n",
    "g.addEdge(2, 5, 2); g.addEdge(3, 6, 4); g.addEdge(3, 5, 2);\n",
    "g.addEdge(4, 6, 1); g.addEdge(4, 7, 5); g.addEdge(5, 4, 4);\n",
    "g.addEdge(6, 7, 1); g.addEdge(5, 0, 3); g.addEdge(5, 8, 1);\n",
    "g.addEdge(8, 4, 1); g.addEdge(8, 9, 3); g.addEdge(9, 7, 1); \n",
    "g.addEdge(7, 0, 30);"
   ]
  },
  {
   "cell_type": "code",
   "execution_count": 5,
   "metadata": {},
   "outputs": [
    {
     "name": "stdout",
     "output_type": "stream",
     "text": [
      "Graph Edges\n",
      "0 ---> [1, 2]\n",
      "1 ---> [3]\n",
      "2 ---> [5]\n",
      "3 ---> [5, 6]\n",
      "4 ---> [6, 7]\n",
      "5 ---> [0, 4, 8]\n",
      "6 ---> [7]\n",
      "8 ---> [4, 9]\n",
      "9 ---> [7]\n",
      "7 ---> [0]\n",
      "Graph Edges with Cost\n",
      "(0, 1) --> 1\n",
      "(0, 2) --> 1\n",
      "(1, 3) --> 3\n",
      "(2, 5) --> 2\n",
      "(3, 6) --> 4\n",
      "(3, 5) --> 2\n",
      "(4, 6) --> 1\n",
      "(4, 7) --> 5\n",
      "(5, 4) --> 4\n",
      "(6, 7) --> 1\n",
      "(5, 0) --> 3\n",
      "(5, 8) --> 1\n",
      "(8, 4) --> 1\n",
      "(8, 9) --> 3\n",
      "(9, 7) --> 1\n",
      "(7, 0) --> 30\n"
     ]
    }
   ],
   "source": [
    "g.PrintG()"
   ]
  },
  {
   "cell_type": "code",
   "execution_count": 6,
   "metadata": {},
   "outputs": [
    {
     "ename": "AttributeError",
     "evalue": "'dict' object has no attribute 'append'",
     "output_type": "error",
     "traceback": [
      "\u001b[1;31m---------------------------------------------------------------------------\u001b[0m",
      "\u001b[1;31mAttributeError\u001b[0m                            Traceback (most recent call last)",
      "\u001b[1;32m<ipython-input-6-e2cd7e00ca10>\u001b[0m in \u001b[0;36m<module>\u001b[1;34m\u001b[0m\n\u001b[1;32m----> 1\u001b[1;33m \u001b[0mg\u001b[0m\u001b[1;33m.\u001b[0m\u001b[0mUCS\u001b[0m\u001b[1;33m(\u001b[0m\u001b[1;36m0\u001b[0m\u001b[1;33m,\u001b[0m\u001b[1;36m6\u001b[0m\u001b[1;33m)\u001b[0m\u001b[1;33m\u001b[0m\u001b[1;33m\u001b[0m\u001b[0m\n\u001b[0m\u001b[0;32m      2\u001b[0m \u001b[1;33m\u001b[0m\u001b[0m\n\u001b[0;32m      3\u001b[0m \u001b[1;33m\u001b[0m\u001b[0m\n\u001b[0;32m      4\u001b[0m \u001b[1;31m#g.Display_Paths()\u001b[0m\u001b[1;33m\u001b[0m\u001b[1;33m\u001b[0m\u001b[1;33m\u001b[0m\u001b[0m\n\u001b[0;32m      5\u001b[0m \u001b[1;33m\u001b[0m\u001b[0m\n",
      "\u001b[1;32m<ipython-input-2-8c34cec6dc64>\u001b[0m in \u001b[0;36mUCS\u001b[1;34m(self, s, goal)\u001b[0m\n\u001b[0;32m     58\u001b[0m \u001b[1;33m\u001b[0m\u001b[0m\n\u001b[0;32m     59\u001b[0m             \u001b[1;31m#self.SEP(path,goal,i,self.visited,v)\u001b[0m\u001b[1;33m\u001b[0m\u001b[1;33m\u001b[0m\u001b[1;33m\u001b[0m\u001b[0m\n\u001b[1;32m---> 60\u001b[1;33m             \u001b[0mself\u001b[0m\u001b[1;33m.\u001b[0m\u001b[0mSEP\u001b[0m\u001b[1;33m(\u001b[0m\u001b[1;33m(\u001b[0m\u001b[0mcopy\u001b[0m\u001b[1;33m.\u001b[0m\u001b[0mdeepcopy\u001b[0m\u001b[1;33m(\u001b[0m\u001b[0mpath\u001b[0m\u001b[1;33m)\u001b[0m\u001b[1;33m)\u001b[0m\u001b[1;33m,\u001b[0m\u001b[0mgoal\u001b[0m\u001b[1;33m,\u001b[0m\u001b[0mi\u001b[0m\u001b[1;33m,\u001b[0m\u001b[1;33m(\u001b[0m\u001b[0mcopy\u001b[0m\u001b[1;33m.\u001b[0m\u001b[0mdeepcopy\u001b[0m\u001b[1;33m(\u001b[0m\u001b[0mself\u001b[0m\u001b[1;33m.\u001b[0m\u001b[0mvisited\u001b[0m\u001b[1;33m)\u001b[0m\u001b[1;33m)\u001b[0m\u001b[1;33m,\u001b[0m\u001b[1;33m(\u001b[0m\u001b[0mself\u001b[0m\u001b[1;33m.\u001b[0m\u001b[0mcost_dict\u001b[0m\u001b[1;33m[\u001b[0m\u001b[0ms\u001b[0m\u001b[1;33m,\u001b[0m\u001b[0mi\u001b[0m\u001b[1;33m]\u001b[0m\u001b[1;33m)\u001b[0m\u001b[1;33m,\u001b[0m\u001b[0mqueue\u001b[0m\u001b[1;33m)\u001b[0m\u001b[1;33m\u001b[0m\u001b[1;33m\u001b[0m\u001b[0m\n\u001b[0m\u001b[0;32m     61\u001b[0m             \u001b[1;31m#self.SEP(path,goal,i,self.visited,self.cost_dict[s,i])\u001b[0m\u001b[1;33m\u001b[0m\u001b[1;33m\u001b[0m\u001b[1;33m\u001b[0m\u001b[0m\n\u001b[0;32m     62\u001b[0m \u001b[1;33m\u001b[0m\u001b[0m\n",
      "\u001b[1;32m<ipython-input-2-8c34cec6dc64>\u001b[0m in \u001b[0;36mSEP\u001b[1;34m(self, path, goal, i, visited, cost, queue)\u001b[0m\n\u001b[0;32m     43\u001b[0m                 \u001b[0mpath\u001b[0m\u001b[1;33m.\u001b[0m\u001b[0mappend\u001b[0m\u001b[1;33m(\u001b[0m\u001b[0mi\u001b[0m\u001b[1;33m)\u001b[0m\u001b[1;33m\u001b[0m\u001b[1;33m\u001b[0m\u001b[0m\n\u001b[0;32m     44\u001b[0m                 \u001b[1;31m#self.cost_dict = cost + self.cost_dict[j,i]\u001b[0m\u001b[1;33m\u001b[0m\u001b[1;33m\u001b[0m\u001b[1;33m\u001b[0m\u001b[0m\n\u001b[1;32m---> 45\u001b[1;33m                 \u001b[0mself\u001b[0m\u001b[1;33m.\u001b[0m\u001b[0mcost_dict\u001b[0m\u001b[1;33m.\u001b[0m\u001b[0mappend\u001b[0m\u001b[1;33m(\u001b[0m\u001b[0mcost\u001b[0m \u001b[1;33m+\u001b[0m \u001b[0mself\u001b[0m\u001b[1;33m.\u001b[0m\u001b[0mcost_dict\u001b[0m\u001b[1;33m[\u001b[0m\u001b[0mj\u001b[0m\u001b[1;33m,\u001b[0m\u001b[0mi\u001b[0m\u001b[1;33m]\u001b[0m\u001b[1;33m)\u001b[0m\u001b[1;33m\u001b[0m\u001b[1;33m\u001b[0m\u001b[0m\n\u001b[0m\u001b[0;32m     46\u001b[0m \u001b[1;33m\u001b[0m\u001b[0m\n\u001b[0;32m     47\u001b[0m \u001b[1;33m\u001b[0m\u001b[0m\n",
      "\u001b[1;31mAttributeError\u001b[0m: 'dict' object has no attribute 'append'"
     ]
    }
   ],
   "source": [
    "g.UCS(0,6)\n",
    "\n",
    "\n",
    "#g.Display_Paths()\n",
    "\n",
    "\n",
    "#g.Shortest_Path()"
   ]
  },
  {
   "cell_type": "code",
   "execution_count": null,
   "metadata": {},
   "outputs": [],
   "source": []
  },
  {
   "cell_type": "code",
   "execution_count": null,
   "metadata": {},
   "outputs": [],
   "source": []
  }
 ],
 "metadata": {
  "kernelspec": {
   "display_name": "Python 3",
   "language": "python",
   "name": "python3"
  },
  "language_info": {
   "codemirror_mode": {
    "name": "ipython",
    "version": 3
   },
   "file_extension": ".py",
   "mimetype": "text/x-python",
   "name": "python",
   "nbconvert_exporter": "python",
   "pygments_lexer": "ipython3",
   "version": "3.8.5"
  }
 },
 "nbformat": 4,
 "nbformat_minor": 1
}
