{
 "cells": [
  {
   "cell_type": "markdown",
   "metadata": {},
   "source": [
    "# TicTacToe Learning Agent using Minimax Algorithm"
   ]
  },
  {
   "cell_type": "code",
   "execution_count": 19,
   "metadata": {},
   "outputs": [],
   "source": [
    "import numpy as np"
   ]
  },
  {
   "cell_type": "code",
   "execution_count": 20,
   "metadata": {},
   "outputs": [],
   "source": [
    "def is_move_left(CurrentBoard, n):\n",
    "                                #To check whether the board is empty or not\n",
    "    for i in range(n):            \n",
    "        for j in range(n):\n",
    "            if CurrentBoard[i][j] == ' ':     \n",
    "                return True\n",
    "    return False"
   ]
  },
  {
   "cell_type": "code",
   "execution_count": 32,
   "metadata": {},
   "outputs": [],
   "source": [
    "def get_score(CurrentBoard,n, symbol):\n",
    "    \n",
    "    #Checking horizontally.    +5 means winning, 0 means draw/lose\n",
    "    for i in range(n):\n",
    "        if(CurrentBoard[i][0] == CurrentBoard[i][1] and CurrentBoard[i][1] == CurrentBoard[i][2]):\n",
    "            return 5\n",
    "        \n",
    "    #Checking vertically\n",
    "    for i in range(n):\n",
    "        if(CurrentBoard[0][i] == CurrentBoard[1][i] and CurrentBoard[1][i] == CurrentBoard[2][i]):\n",
    "            return 5\n",
    "        \n",
    "    #Checking diagnally \n",
    "    first_diagnol = np.diag(CurrentBoard)\n",
    "    \n",
    "    if(first_diagnol[0]==first_diagnol[1] and first_diagnol[0] == first_diagnol[2]):\n",
    "        return 5\n",
    "    \n",
    "    second_diagnol = np.diag(np.fliplr(CurrentBoard))\n",
    "    \n",
    "    if(second_diagnol[0]==second_diagnol[1] and second_diagnol[0] == second_diagnol[2]):\n",
    "        return 5\n",
    "    \n",
    "    return 0"
   ]
  },
  {
   "cell_type": "code",
   "execution_count": 33,
   "metadata": {},
   "outputs": [],
   "source": [
    "def minimax(CurrentBoard, n, symbol):\n",
    "    \n",
    "    score=get_score(CurrentBoard, n, symbol)\n",
    "    \n",
    "    if(score==5):\n",
    "        return score    #Best possible move\n",
    "    \n",
    "    if(score==0):\n",
    "        return score    #Not the best possible move\n",
    "    \n",
    "    if(is_move_left(CurrentBoard, n) == False):\n",
    "        return 0    #Game has end \n",
    "    \n",
    "    best_move = float('-inf')\n",
    "    \n",
    "    board is CurrentBoard\n",
    "    \n",
    "    for i in range(n):\n",
    "        for j in range(n):\n",
    "            if(board[i][j] == ' '):\n",
    "                board[i][j] = symbol\n",
    "                best = minimax(board, n, symbol)     #Checking the score for a perticular (temporary) move\n",
    "                board[i][j]= ' '        #Replacing the empty space back so that the board is same for the next iteration\n",
    "    \n",
    "    return best\n",
    "                "
   ]
  },
  {
   "cell_type": "code",
   "execution_count": 69,
   "metadata": {},
   "outputs": [],
   "source": [
    "def Agent(CurrentBoard, n, symbol):\n",
    "    \n",
    "    flag=True\n",
    "    \n",
    "    for i in range(n):             #Checking if the board is empty.   True meaning empty\n",
    "        for j in range(n):\n",
    "            if CurrentBoard[i][j] != ' ':     #Space character shows the empty board\n",
    "                flag = False\n",
    "    \n",
    "    best_val = float('-inf')\n",
    "    best_row=0\n",
    "    best_col=0\n",
    "    \n",
    "    if(flag == True):              \n",
    "        CurrentBoard[1][1]=symbol      #Adding the first move\n",
    "        return CurrentBoard            #Returning the board with the starting point to play\n",
    "    \n",
    "    else:\n",
    "        board = CurrentBoard\n",
    "        current_val=0\n",
    "        \n",
    "        for i in range(n):\n",
    "            for j in range(n):\n",
    "                if(board[i][j] == ' '):\n",
    "                    board[i][j] = symbol\n",
    "                    current_val = minimax(board, n, symbol)\n",
    "                    board[i][j] = ' '\n",
    "                    \n",
    "                    if(current_val > best_val):      #Saving the best score after comparing each move's score\n",
    "                        best_row=i\n",
    "                        best_col=j\n",
    "                        best_val=current_val\n",
    "    \n",
    "    board[best_row][best_col] = symbol\n",
    "    \n",
    "    return board"
   ]
  },
  {
   "cell_type": "code",
   "execution_count": 103,
   "metadata": {
    "scrolled": true
   },
   "outputs": [],
   "source": [
    "def main():                      #Main function to complete the game (if required)\n",
    "    n=3\n",
    "    board=[['O', ' ', ' '], ['X', 'X', 'O'], ['O', ' ', 'X']]\n",
    "    board=np.array(board)\n",
    "    \n",
    "    print(\"     Input\")\n",
    "    print(board)\n",
    "    print(\"     -----\")\n",
    "    print(\" \")\n",
    "    print(\"     Output\")\n",
    "    \n",
    "    for i in range(n):\n",
    "            for j in range(n):\n",
    "                if(board[i][j] == ' '):\n",
    "                    board=Agent(board,n,'X')\n",
    "                    print(board)\n",
    "                    print(\"     -----\")\n",
    "                    "
   ]
  },
  {
   "cell_type": "code",
   "execution_count": 104,
   "metadata": {},
   "outputs": [
    {
     "name": "stdout",
     "output_type": "stream",
     "text": [
      "     Input\n",
      "[['O' ' ' ' ']\n",
      " ['X' 'X' 'O']\n",
      " ['O' ' ' 'X']]\n",
      "     -----\n",
      " \n",
      "     Output\n",
      "[['O' 'X' ' ']\n",
      " ['X' 'X' 'O']\n",
      " ['O' ' ' 'X']]\n"
     ]
    }
   ],
   "source": [
    "\n",
    "#     Single Output \n",
    "\n",
    "board1=[['O', ' ', ' '], ['X', 'X', 'O'], ['O', ' ', 'X']]\n",
    "board1=np.array(board1)\n",
    "\n",
    "print(\"     Input\")\n",
    "\n",
    "print(board1)\n",
    "\n",
    "print(\"     -----\")\n",
    "print(\" \")\n",
    "print(\"     Output\")\n",
    "\n",
    "print(Agent(board1, n, 'X'))"
   ]
  },
  {
   "cell_type": "code",
   "execution_count": 105,
   "metadata": {},
   "outputs": [
    {
     "name": "stdout",
     "output_type": "stream",
     "text": [
      "     Input\n",
      "[['O' ' ' ' ']\n",
      " ['X' 'X' 'O']\n",
      " ['O' ' ' 'X']]\n",
      "     -----\n",
      " \n",
      "     Output\n",
      "[['O' 'X' ' ']\n",
      " ['X' 'X' 'O']\n",
      " ['O' ' ' 'X']]\n",
      "     -----\n",
      "[['O' 'X' ' ']\n",
      " ['X' 'X' 'O']\n",
      " ['O' 'X' 'X']]\n",
      "     -----\n"
     ]
    }
   ],
   "source": [
    "main()    "
   ]
  }
 ],
 "metadata": {
  "kernelspec": {
   "display_name": "Python 3",
   "language": "python",
   "name": "python3"
  },
  "language_info": {
   "codemirror_mode": {
    "name": "ipython",
    "version": 3
   },
   "file_extension": ".py",
   "mimetype": "text/x-python",
   "name": "python",
   "nbconvert_exporter": "python",
   "pygments_lexer": "ipython3",
   "version": "3.8.5"
  }
 },
 "nbformat": 4,
 "nbformat_minor": 4
}
