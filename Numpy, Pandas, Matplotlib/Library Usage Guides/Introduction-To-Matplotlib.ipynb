{
 "cells": [
  {
   "cell_type": "markdown",
   "metadata": {},
   "source": [
    "# Pandas\n",
    "### Pivot Tables"
   ]
  },
  {
   "cell_type": "markdown",
   "metadata": {},
   "source": [
    "A pivot table is a similar operation that is commonly seen in spreadsheets and other programs that operate on tabular data. The pivot table takes simple column- wise data as input, and groups the entries into a two-dimensional table that provides a multidimensional summarization of the data. The difference between pivot tables and GroupBy can sometimes cause confusion; it helps me to think of pivot tables as essentially a multidimensional version of GroupBy aggregation. That is, you split- apply-combine, but both the split and the combine happen across not a one- dimensional index, but across a two-dimensional grid."
   ]
  },
  {
   "cell_type": "code",
   "execution_count": 52,
   "metadata": {},
   "outputs": [],
   "source": [
    "import numpy as np \n",
    "import pandas as pd\n",
    "import seaborn as sns\n",
    "titanic = sns.load_dataset('titanic')"
   ]
  },
  {
   "cell_type": "code",
   "execution_count": 53,
   "metadata": {},
   "outputs": [
    {
     "data": {
      "text/html": [
       "<div>\n",
       "<style scoped>\n",
       "    .dataframe tbody tr th:only-of-type {\n",
       "        vertical-align: middle;\n",
       "    }\n",
       "\n",
       "    .dataframe tbody tr th {\n",
       "        vertical-align: top;\n",
       "    }\n",
       "\n",
       "    .dataframe thead th {\n",
       "        text-align: right;\n",
       "    }\n",
       "</style>\n",
       "<table border=\"1\" class=\"dataframe\">\n",
       "  <thead>\n",
       "    <tr style=\"text-align: right;\">\n",
       "      <th></th>\n",
       "      <th>survived</th>\n",
       "      <th>pclass</th>\n",
       "      <th>sex</th>\n",
       "      <th>age</th>\n",
       "      <th>sibsp</th>\n",
       "      <th>parch</th>\n",
       "      <th>fare</th>\n",
       "      <th>embarked</th>\n",
       "      <th>class</th>\n",
       "      <th>who</th>\n",
       "      <th>adult_male</th>\n",
       "      <th>deck</th>\n",
       "      <th>embark_town</th>\n",
       "      <th>alive</th>\n",
       "      <th>alone</th>\n",
       "    </tr>\n",
       "  </thead>\n",
       "  <tbody>\n",
       "    <tr>\n",
       "      <th>0</th>\n",
       "      <td>0</td>\n",
       "      <td>3</td>\n",
       "      <td>male</td>\n",
       "      <td>22.0</td>\n",
       "      <td>1</td>\n",
       "      <td>0</td>\n",
       "      <td>7.2500</td>\n",
       "      <td>S</td>\n",
       "      <td>Third</td>\n",
       "      <td>man</td>\n",
       "      <td>True</td>\n",
       "      <td>NaN</td>\n",
       "      <td>Southampton</td>\n",
       "      <td>no</td>\n",
       "      <td>False</td>\n",
       "    </tr>\n",
       "    <tr>\n",
       "      <th>1</th>\n",
       "      <td>1</td>\n",
       "      <td>1</td>\n",
       "      <td>female</td>\n",
       "      <td>38.0</td>\n",
       "      <td>1</td>\n",
       "      <td>0</td>\n",
       "      <td>71.2833</td>\n",
       "      <td>C</td>\n",
       "      <td>First</td>\n",
       "      <td>woman</td>\n",
       "      <td>False</td>\n",
       "      <td>C</td>\n",
       "      <td>Cherbourg</td>\n",
       "      <td>yes</td>\n",
       "      <td>False</td>\n",
       "    </tr>\n",
       "    <tr>\n",
       "      <th>2</th>\n",
       "      <td>1</td>\n",
       "      <td>3</td>\n",
       "      <td>female</td>\n",
       "      <td>26.0</td>\n",
       "      <td>0</td>\n",
       "      <td>0</td>\n",
       "      <td>7.9250</td>\n",
       "      <td>S</td>\n",
       "      <td>Third</td>\n",
       "      <td>woman</td>\n",
       "      <td>False</td>\n",
       "      <td>NaN</td>\n",
       "      <td>Southampton</td>\n",
       "      <td>yes</td>\n",
       "      <td>True</td>\n",
       "    </tr>\n",
       "    <tr>\n",
       "      <th>3</th>\n",
       "      <td>1</td>\n",
       "      <td>1</td>\n",
       "      <td>female</td>\n",
       "      <td>35.0</td>\n",
       "      <td>1</td>\n",
       "      <td>0</td>\n",
       "      <td>53.1000</td>\n",
       "      <td>S</td>\n",
       "      <td>First</td>\n",
       "      <td>woman</td>\n",
       "      <td>False</td>\n",
       "      <td>C</td>\n",
       "      <td>Southampton</td>\n",
       "      <td>yes</td>\n",
       "      <td>False</td>\n",
       "    </tr>\n",
       "    <tr>\n",
       "      <th>4</th>\n",
       "      <td>0</td>\n",
       "      <td>3</td>\n",
       "      <td>male</td>\n",
       "      <td>35.0</td>\n",
       "      <td>0</td>\n",
       "      <td>0</td>\n",
       "      <td>8.0500</td>\n",
       "      <td>S</td>\n",
       "      <td>Third</td>\n",
       "      <td>man</td>\n",
       "      <td>True</td>\n",
       "      <td>NaN</td>\n",
       "      <td>Southampton</td>\n",
       "      <td>no</td>\n",
       "      <td>True</td>\n",
       "    </tr>\n",
       "  </tbody>\n",
       "</table>\n",
       "</div>"
      ],
      "text/plain": [
       "   survived  pclass     sex   age  sibsp  parch     fare embarked  class  \\\n",
       "0         0       3    male  22.0      1      0   7.2500        S  Third   \n",
       "1         1       1  female  38.0      1      0  71.2833        C  First   \n",
       "2         1       3  female  26.0      0      0   7.9250        S  Third   \n",
       "3         1       1  female  35.0      1      0  53.1000        S  First   \n",
       "4         0       3    male  35.0      0      0   8.0500        S  Third   \n",
       "\n",
       "     who  adult_male deck  embark_town alive  alone  \n",
       "0    man        True  NaN  Southampton    no  False  \n",
       "1  woman       False    C    Cherbourg   yes  False  \n",
       "2  woman       False  NaN  Southampton   yes   True  \n",
       "3  woman       False    C  Southampton   yes  False  \n",
       "4    man        True  NaN  Southampton    no   True  "
      ]
     },
     "execution_count": 53,
     "metadata": {},
     "output_type": "execute_result"
    }
   ],
   "source": [
    "titanic.head()"
   ]
  },
  {
   "cell_type": "markdown",
   "metadata": {},
   "source": [
    "### Pivoting tables by hand using groupby"
   ]
  },
  {
   "cell_type": "markdown",
   "metadata": {},
   "source": [
    "#### Column indexing:\n",
    "The GroupBy object supports column indexing in the same way as the DataFrame, and returns a modified GroupBy object. For example:"
   ]
  },
  {
   "cell_type": "code",
   "execution_count": 54,
   "metadata": {},
   "outputs": [
    {
     "data": {
      "text/plain": [
       "<pandas.core.groupby.generic.DataFrameGroupBy object at 0x7fc20ead6090>"
      ]
     },
     "execution_count": 54,
     "metadata": {},
     "output_type": "execute_result"
    }
   ],
   "source": [
    "titanic.groupby('sex')[['survived']]"
   ]
  },
  {
   "cell_type": "markdown",
   "metadata": {},
   "source": [
    "Here we’ve selected a particular Series group from the original DataFrame group by reference to its column name. As with the GroupBy object, no computation is done until we call some aggregate on the object:"
   ]
  },
  {
   "cell_type": "code",
   "execution_count": 57,
   "metadata": {
    "scrolled": false
   },
   "outputs": [
    {
     "data": {
      "text/html": [
       "<div>\n",
       "<style scoped>\n",
       "    .dataframe tbody tr th:only-of-type {\n",
       "        vertical-align: middle;\n",
       "    }\n",
       "\n",
       "    .dataframe tbody tr th {\n",
       "        vertical-align: top;\n",
       "    }\n",
       "\n",
       "    .dataframe thead th {\n",
       "        text-align: right;\n",
       "    }\n",
       "</style>\n",
       "<table border=\"1\" class=\"dataframe\">\n",
       "  <thead>\n",
       "    <tr style=\"text-align: right;\">\n",
       "      <th></th>\n",
       "      <th>survived</th>\n",
       "    </tr>\n",
       "    <tr>\n",
       "      <th>sex</th>\n",
       "      <th></th>\n",
       "    </tr>\n",
       "  </thead>\n",
       "  <tbody>\n",
       "    <tr>\n",
       "      <th>female</th>\n",
       "      <td>0.742038</td>\n",
       "    </tr>\n",
       "    <tr>\n",
       "      <th>male</th>\n",
       "      <td>0.188908</td>\n",
       "    </tr>\n",
       "  </tbody>\n",
       "</table>\n",
       "</div>"
      ],
      "text/plain": [
       "        survived\n",
       "sex             \n",
       "female  0.742038\n",
       "male    0.188908"
      ]
     },
     "execution_count": 57,
     "metadata": {},
     "output_type": "execute_result"
    }
   ],
   "source": [
    "titanic.groupby('sex')[['survived']].mean()"
   ]
  },
  {
   "cell_type": "markdown",
   "metadata": {},
   "source": [
    "Lets dig a bit deeper lets look at survival by both sex and, say, class. we group by class and gender, select survival, apply a mean aggregate, com‐ bine the resulting groups, and then unstack the hierarchical index to reveal the hidden multidimensionality. In code:"
   ]
  },
  {
   "cell_type": "code",
   "execution_count": 64,
   "metadata": {},
   "outputs": [
    {
     "data": {
      "text/html": [
       "<div>\n",
       "<style scoped>\n",
       "    .dataframe tbody tr th:only-of-type {\n",
       "        vertical-align: middle;\n",
       "    }\n",
       "\n",
       "    .dataframe tbody tr th {\n",
       "        vertical-align: top;\n",
       "    }\n",
       "\n",
       "    .dataframe thead th {\n",
       "        text-align: right;\n",
       "    }\n",
       "</style>\n",
       "<table border=\"1\" class=\"dataframe\">\n",
       "  <thead>\n",
       "    <tr style=\"text-align: right;\">\n",
       "      <th>class</th>\n",
       "      <th>First</th>\n",
       "      <th>Second</th>\n",
       "      <th>Third</th>\n",
       "    </tr>\n",
       "    <tr>\n",
       "      <th>sex</th>\n",
       "      <th></th>\n",
       "      <th></th>\n",
       "      <th></th>\n",
       "    </tr>\n",
       "  </thead>\n",
       "  <tbody>\n",
       "    <tr>\n",
       "      <th>female</th>\n",
       "      <td>0.968085</td>\n",
       "      <td>0.921053</td>\n",
       "      <td>0.500000</td>\n",
       "    </tr>\n",
       "    <tr>\n",
       "      <th>male</th>\n",
       "      <td>0.368852</td>\n",
       "      <td>0.157407</td>\n",
       "      <td>0.135447</td>\n",
       "    </tr>\n",
       "  </tbody>\n",
       "</table>\n",
       "</div>"
      ],
      "text/plain": [
       "class     First     Second    Third \n",
       "sex                                 \n",
       "female  0.968085  0.921053  0.500000\n",
       "male    0.368852  0.157407  0.135447"
      ]
     },
     "execution_count": 64,
     "metadata": {},
     "output_type": "execute_result"
    }
   ],
   "source": [
    "titanic.groupby(['sex', 'class'])['survived'].aggregate('mean').unstack()"
   ]
  },
  {
   "cell_type": "markdown",
   "metadata": {},
   "source": [
    "```unstack()``` Returns a DataFrame having a new level of column labels whose inner-most level consists of the pivoted index labels."
   ]
  },
  {
   "cell_type": "markdown",
   "metadata": {},
   "source": [
    "### Pivot Table Syntax"
   ]
  },
  {
   "cell_type": "code",
   "execution_count": 68,
   "metadata": {},
   "outputs": [
    {
     "data": {
      "text/html": [
       "<div>\n",
       "<style scoped>\n",
       "    .dataframe tbody tr th:only-of-type {\n",
       "        vertical-align: middle;\n",
       "    }\n",
       "\n",
       "    .dataframe tbody tr th {\n",
       "        vertical-align: top;\n",
       "    }\n",
       "\n",
       "    .dataframe thead th {\n",
       "        text-align: right;\n",
       "    }\n",
       "</style>\n",
       "<table border=\"1\" class=\"dataframe\">\n",
       "  <thead>\n",
       "    <tr style=\"text-align: right;\">\n",
       "      <th>class</th>\n",
       "      <th>First</th>\n",
       "      <th>Second</th>\n",
       "      <th>Third</th>\n",
       "    </tr>\n",
       "    <tr>\n",
       "      <th>sex</th>\n",
       "      <th></th>\n",
       "      <th></th>\n",
       "      <th></th>\n",
       "    </tr>\n",
       "  </thead>\n",
       "  <tbody>\n",
       "    <tr>\n",
       "      <th>female</th>\n",
       "      <td>0.968085</td>\n",
       "      <td>0.921053</td>\n",
       "      <td>0.500000</td>\n",
       "    </tr>\n",
       "    <tr>\n",
       "      <th>male</th>\n",
       "      <td>0.368852</td>\n",
       "      <td>0.157407</td>\n",
       "      <td>0.135447</td>\n",
       "    </tr>\n",
       "  </tbody>\n",
       "</table>\n",
       "</div>"
      ],
      "text/plain": [
       "class     First     Second    Third \n",
       "sex                                 \n",
       "female  0.968085  0.921053  0.500000\n",
       "male    0.368852  0.157407  0.135447"
      ]
     },
     "execution_count": 68,
     "metadata": {},
     "output_type": "execute_result"
    }
   ],
   "source": [
    "titanic.pivot_table('survived', index='sex', columns='class',aggfunc='mean') # who"
   ]
  },
  {
   "cell_type": "markdown",
   "metadata": {},
   "source": [
    "we can further use a parameter ```aggfunc``` and pass it the aggregate functions that we are familiar with such as \n",
    "```mean```, ```std```, ```count```"
   ]
  },
  {
   "cell_type": "markdown",
   "metadata": {},
   "source": [
    "## DataFrame.query() Method"
   ]
  },
  {
   "cell_type": "code",
   "execution_count": 70,
   "metadata": {},
   "outputs": [],
   "source": [
    "rng = np.random.RandomState(42)\n",
    "df = pd.DataFrame(rng.rand(1000, 3), columns=['A', 'B', 'C'])"
   ]
  },
  {
   "cell_type": "code",
   "execution_count": 71,
   "metadata": {},
   "outputs": [
    {
     "data": {
      "text/html": [
       "<div>\n",
       "<style scoped>\n",
       "    .dataframe tbody tr th:only-of-type {\n",
       "        vertical-align: middle;\n",
       "    }\n",
       "\n",
       "    .dataframe tbody tr th {\n",
       "        vertical-align: top;\n",
       "    }\n",
       "\n",
       "    .dataframe thead th {\n",
       "        text-align: right;\n",
       "    }\n",
       "</style>\n",
       "<table border=\"1\" class=\"dataframe\">\n",
       "  <thead>\n",
       "    <tr style=\"text-align: right;\">\n",
       "      <th></th>\n",
       "      <th>A</th>\n",
       "      <th>B</th>\n",
       "      <th>C</th>\n",
       "    </tr>\n",
       "  </thead>\n",
       "  <tbody>\n",
       "    <tr>\n",
       "      <th>0</th>\n",
       "      <td>0.374540</td>\n",
       "      <td>0.950714</td>\n",
       "      <td>0.731994</td>\n",
       "    </tr>\n",
       "    <tr>\n",
       "      <th>1</th>\n",
       "      <td>0.598658</td>\n",
       "      <td>0.156019</td>\n",
       "      <td>0.155995</td>\n",
       "    </tr>\n",
       "    <tr>\n",
       "      <th>2</th>\n",
       "      <td>0.058084</td>\n",
       "      <td>0.866176</td>\n",
       "      <td>0.601115</td>\n",
       "    </tr>\n",
       "    <tr>\n",
       "      <th>3</th>\n",
       "      <td>0.708073</td>\n",
       "      <td>0.020584</td>\n",
       "      <td>0.969910</td>\n",
       "    </tr>\n",
       "    <tr>\n",
       "      <th>4</th>\n",
       "      <td>0.832443</td>\n",
       "      <td>0.212339</td>\n",
       "      <td>0.181825</td>\n",
       "    </tr>\n",
       "  </tbody>\n",
       "</table>\n",
       "</div>"
      ],
      "text/plain": [
       "          A         B         C\n",
       "0  0.374540  0.950714  0.731994\n",
       "1  0.598658  0.156019  0.155995\n",
       "2  0.058084  0.866176  0.601115\n",
       "3  0.708073  0.020584  0.969910\n",
       "4  0.832443  0.212339  0.181825"
      ]
     },
     "execution_count": 71,
     "metadata": {},
     "output_type": "execute_result"
    }
   ],
   "source": [
    "df.head()"
   ]
  },
  {
   "cell_type": "code",
   "execution_count": 72,
   "metadata": {},
   "outputs": [
    {
     "data": {
      "text/html": [
       "<div>\n",
       "<style scoped>\n",
       "    .dataframe tbody tr th:only-of-type {\n",
       "        vertical-align: middle;\n",
       "    }\n",
       "\n",
       "    .dataframe tbody tr th {\n",
       "        vertical-align: top;\n",
       "    }\n",
       "\n",
       "    .dataframe thead th {\n",
       "        text-align: right;\n",
       "    }\n",
       "</style>\n",
       "<table border=\"1\" class=\"dataframe\">\n",
       "  <thead>\n",
       "    <tr style=\"text-align: right;\">\n",
       "      <th></th>\n",
       "      <th>A</th>\n",
       "      <th>B</th>\n",
       "      <th>C</th>\n",
       "    </tr>\n",
       "  </thead>\n",
       "  <tbody>\n",
       "    <tr>\n",
       "      <th>5</th>\n",
       "      <td>0.183405</td>\n",
       "      <td>0.304242</td>\n",
       "      <td>0.524756</td>\n",
       "    </tr>\n",
       "    <tr>\n",
       "      <th>6</th>\n",
       "      <td>0.431945</td>\n",
       "      <td>0.291229</td>\n",
       "      <td>0.611853</td>\n",
       "    </tr>\n",
       "    <tr>\n",
       "      <th>7</th>\n",
       "      <td>0.139494</td>\n",
       "      <td>0.292145</td>\n",
       "      <td>0.366362</td>\n",
       "    </tr>\n",
       "    <tr>\n",
       "      <th>12</th>\n",
       "      <td>0.304614</td>\n",
       "      <td>0.097672</td>\n",
       "      <td>0.684233</td>\n",
       "    </tr>\n",
       "    <tr>\n",
       "      <th>13</th>\n",
       "      <td>0.440152</td>\n",
       "      <td>0.122038</td>\n",
       "      <td>0.495177</td>\n",
       "    </tr>\n",
       "    <tr>\n",
       "      <th>...</th>\n",
       "      <td>...</td>\n",
       "      <td>...</td>\n",
       "      <td>...</td>\n",
       "    </tr>\n",
       "    <tr>\n",
       "      <th>970</th>\n",
       "      <td>0.230417</td>\n",
       "      <td>0.001474</td>\n",
       "      <td>0.729345</td>\n",
       "    </tr>\n",
       "    <tr>\n",
       "      <th>973</th>\n",
       "      <td>0.302931</td>\n",
       "      <td>0.325295</td>\n",
       "      <td>0.712621</td>\n",
       "    </tr>\n",
       "    <tr>\n",
       "      <th>987</th>\n",
       "      <td>0.345342</td>\n",
       "      <td>0.335610</td>\n",
       "      <td>0.978525</td>\n",
       "    </tr>\n",
       "    <tr>\n",
       "      <th>990</th>\n",
       "      <td>0.380518</td>\n",
       "      <td>0.163035</td>\n",
       "      <td>0.786206</td>\n",
       "    </tr>\n",
       "    <tr>\n",
       "      <th>999</th>\n",
       "      <td>0.309788</td>\n",
       "      <td>0.290046</td>\n",
       "      <td>0.871414</td>\n",
       "    </tr>\n",
       "  </tbody>\n",
       "</table>\n",
       "<p>238 rows × 3 columns</p>\n",
       "</div>"
      ],
      "text/plain": [
       "            A         B         C\n",
       "5    0.183405  0.304242  0.524756\n",
       "6    0.431945  0.291229  0.611853\n",
       "7    0.139494  0.292145  0.366362\n",
       "12   0.304614  0.097672  0.684233\n",
       "13   0.440152  0.122038  0.495177\n",
       "..        ...       ...       ...\n",
       "970  0.230417  0.001474  0.729345\n",
       "973  0.302931  0.325295  0.712621\n",
       "987  0.345342  0.335610  0.978525\n",
       "990  0.380518  0.163035  0.786206\n",
       "999  0.309788  0.290046  0.871414\n",
       "\n",
       "[238 rows x 3 columns]"
      ]
     },
     "execution_count": 72,
     "metadata": {},
     "output_type": "execute_result"
    }
   ],
   "source": [
    "result1 = df[(df.A < 0.5) & (df.B < 0.5)]\n",
    "result2 = df.query('A < 0.5 and B < 0.5')\n",
    "result2"
   ]
  },
  {
   "cell_type": "code",
   "execution_count": 25,
   "metadata": {},
   "outputs": [
    {
     "data": {
      "text/plain": [
       "True"
      ]
     },
     "execution_count": 25,
     "metadata": {},
     "output_type": "execute_result"
    }
   ],
   "source": [
    "np.allclose(result1, result2)"
   ]
  },
  {
   "cell_type": "markdown",
   "metadata": {},
   "source": [
    "```numpy.allclose(a, b, rtol=1e-05, atol=1e-08, equal_nan=False)``` \n",
    "Returns True if two arrays are element-wise equal within a tolerance."
   ]
  },
  {
   "cell_type": "markdown",
   "metadata": {},
   "source": [
    "# Visualization with Matplotlib"
   ]
  },
  {
   "cell_type": "markdown",
   "metadata": {},
   "source": [
    "We'll now take an in-depth look at the Matplotlib package for visualization in Python.\n",
    "Matplotlib is a multi-platform data visualization library built on NumPy arrays, and designed to work with the broader SciPy stack.\n",
    "It was conceived by John Hunter in 2002, originally as a patch to IPython for enabling interactive MATLAB-style plotting via gnuplot from the IPython command line.\n",
    "IPython's creator, Fernando Perez, was at the time scrambling to finish his PhD, and let John know he wouldn’t have time to review the patch for several months.\n",
    "John took this as a cue to set out on his own, and the Matplotlib package was born, with version 0.1 released in 2003.\n",
    "It received an early boost when it was adopted as the plotting package of choice of the Space Telescope Science Institute (the folks behind the Hubble Telescope), which financially supported Matplotlib’s development and greatly expanded its capabilities.\n",
    "\n",
    "One of Matplotlib’s most important features is its ability to play well with many operating systems and graphics backends.\n",
    "Matplotlib supports dozens of backends and output types, which means you can count on it to work regardless of which operating system you are using or which output format you wish.\n",
    "This cross-platform, everything-to-everyone approach has been one of the great strengths of Matplotlib.\n",
    "It has led to a large user base, which in turn has led to an active developer base and Matplotlib’s powerful tools and ubiquity within the scientific Python world.\n",
    "\n",
    "In recent years, however, the interface and style of Matplotlib have begun to show their age.\n",
    "Newer tools like ggplot and ggvis in the R language, along with web visualization toolkits based on D3js and HTML5 canvas, often make Matplotlib feel clunky and old-fashioned.\n",
    "Still, I'm of the opinion that we cannot ignore Matplotlib's strength as a well-tested, cross-platform graphics engine.\n",
    "Recent Matplotlib versions make it relatively easy to set new global plotting styles, and people have been developing new packages that build on its powerful internals to drive Matplotlib via cleaner, more modern APIs—for example, Seaborn, [HoloViews](http://holoviews.org/), [Altair](http://altair-viz.github.io/), and even Pandas itself can be used as wrappers around Matplotlib's API.\n",
    "Even with wrappers like these, it is still often useful to dive into Matplotlib's syntax to adjust the final plot output.\n",
    "For this reason, I believe that Matplotlib itself will remain a vital piece of the data visualization stack, even if new tools mean the community gradually moves away from using the Matplotlib API directly."
   ]
  },
  {
   "cell_type": "markdown",
   "metadata": {},
   "source": [
    "## General Matplotlib Tips\n",
    "\n",
    "Before we dive into the details of creating visualizations with Matplotlib, there are a few useful things you should know about using the package."
   ]
  },
  {
   "cell_type": "markdown",
   "metadata": {},
   "source": [
    "### Importing Matplotlib\n",
    "\n",
    "Just as we use the ``np`` shorthand for NumPy and the ``pd`` shorthand for Pandas, we will use some standard shorthands for Matplotlib imports:"
   ]
  },
  {
   "cell_type": "code",
   "execution_count": 73,
   "metadata": {},
   "outputs": [],
   "source": [
    "import matplotlib as mpl\n",
    "import matplotlib.pyplot as plt"
   ]
  },
  {
   "cell_type": "markdown",
   "metadata": {},
   "source": [
    "The ``plt`` interface is what we will use most often, as we shall see throughout our labs."
   ]
  },
  {
   "cell_type": "markdown",
   "metadata": {},
   "source": [
    "### Setting Styles\n",
    "\n",
    "We will use the ``plt.style`` directive to choose appropriate aesthetic styles for our figures.\n",
    "Here we will set the ``classic`` style, which ensures that the plots we create use the classic Matplotlib style:"
   ]
  },
  {
   "cell_type": "code",
   "execution_count": 74,
   "metadata": {},
   "outputs": [],
   "source": [
    "plt.style.use('classic')"
   ]
  },
  {
   "cell_type": "markdown",
   "metadata": {},
   "source": [
    "Throughout this section, we will adjust this style as needed.\n",
    "Note that the stylesheets used here are supported as of Matplotlib version 1.5; if you are using an earlier version of Matplotlib, only the default style is available."
   ]
  },
  {
   "cell_type": "markdown",
   "metadata": {},
   "source": [
    "### ``show()`` or No ``show()``? How to Display Your Plots"
   ]
  },
  {
   "cell_type": "markdown",
   "metadata": {},
   "source": [
    "A visualization you can't see won't be of much use, but just how you view your Matplotlib plots depends on the context.\n",
    "The best use of Matplotlib differs depending on how you are using it; roughly, the three applicable contexts are using Matplotlib in a script, in an IPython terminal, or in an IPython notebook."
   ]
  },
  {
   "cell_type": "markdown",
   "metadata": {},
   "source": [
    "#### Plotting from a script\n",
    "\n",
    "If you are using Matplotlib from within a script, the function ``plt.show()`` is your friend.\n",
    "``plt.show()`` starts an event loop, looks for all currently active figure objects, and opens one or more interactive windows that display your figure or figures.\n",
    "\n",
    "So, for example, you may have a file called *myplot.py* containing the following:\n",
    "\n",
    "```python\n",
    "# ------- file: myplot.py ------\n",
    "import matplotlib.pyplot as plt\n",
    "import numpy as np\n",
    "\n",
    "x = np.linspace(0, 10, 100)\n",
    "\n",
    "plt.plot(x, np.sin(x))\n",
    "plt.plot(x, np.cos(x))\n",
    "\n",
    "plt.show()\n",
    "```\n",
    "\n",
    "You can then run this script from the command-line prompt, which will result in a window opening with your figure displayed:\n",
    "\n",
    "```\n",
    "$ python myplot.py\n",
    "```\n",
    "\n",
    "The ``plt.show()`` command does a lot under the hood, as it must interact with your system's interactive graphical backend.\n",
    "The details of this operation can vary greatly from system to system and even installation to installation, but matplotlib does its best to hide all these details from you.\n",
    "\n",
    "One thing to be aware of: the ``plt.show()`` command should be used *only once* per Python session, and is most often seen at the very end of the script.\n",
    "Multiple ``show()`` commands can lead to unpredictable backend-dependent behavior, and should mostly be avoided."
   ]
  },
  {
   "cell_type": "markdown",
   "metadata": {},
   "source": [
    "#### Plotting from an IPython notebook\n",
    "\n",
    "The IPython notebook is a browser-based interactive data analysis tool that can combine narrative, code, graphics, HTML elements, and much more into a single executable document.\n",
    "\n",
    "Plotting interactively within an IPython notebook can be done with the ``%matplotlib`` command, and works in a similar way to the IPython shell.\n",
    "In the IPython notebook, you also have the option of embedding graphics directly in the notebook, with two possible options:\n",
    "\n",
    "- ``%matplotlib notebook`` will lead to *interactive* plots embedded within the notebook\n",
    "- ``%matplotlib inline`` will lead to *static* images of your plot embedded in the notebook\n",
    "\n",
    "For our labs, we will generally opt for ``%matplotlib inline``:"
   ]
  },
  {
   "cell_type": "code",
   "execution_count": 76,
   "metadata": {},
   "outputs": [],
   "source": [
    "%matplotlib inline"
   ]
  },
  {
   "cell_type": "markdown",
   "metadata": {},
   "source": [
    "After running this command (it needs to be done only once per kernel/session), any cell within the notebook that creates a plot will embed a PNG image of the resulting graphic:"
   ]
  },
  {
   "cell_type": "code",
   "execution_count": 85,
   "metadata": {},
   "outputs": [],
   "source": [
    "import numpy as np\n",
    "x = np.linspace(0, 10, 100)"
   ]
  },
  {
   "cell_type": "code",
   "execution_count": 86,
   "metadata": {},
   "outputs": [
    {
     "data": {
      "text/plain": [
       "array([ 0.        ,  0.1010101 ,  0.2020202 ,  0.3030303 ,  0.4040404 ,\n",
       "        0.50505051,  0.60606061,  0.70707071,  0.80808081,  0.90909091,\n",
       "        1.01010101,  1.11111111,  1.21212121,  1.31313131,  1.41414141,\n",
       "        1.51515152,  1.61616162,  1.71717172,  1.81818182,  1.91919192,\n",
       "        2.02020202,  2.12121212,  2.22222222,  2.32323232,  2.42424242,\n",
       "        2.52525253,  2.62626263,  2.72727273,  2.82828283,  2.92929293,\n",
       "        3.03030303,  3.13131313,  3.23232323,  3.33333333,  3.43434343,\n",
       "        3.53535354,  3.63636364,  3.73737374,  3.83838384,  3.93939394,\n",
       "        4.04040404,  4.14141414,  4.24242424,  4.34343434,  4.44444444,\n",
       "        4.54545455,  4.64646465,  4.74747475,  4.84848485,  4.94949495,\n",
       "        5.05050505,  5.15151515,  5.25252525,  5.35353535,  5.45454545,\n",
       "        5.55555556,  5.65656566,  5.75757576,  5.85858586,  5.95959596,\n",
       "        6.06060606,  6.16161616,  6.26262626,  6.36363636,  6.46464646,\n",
       "        6.56565657,  6.66666667,  6.76767677,  6.86868687,  6.96969697,\n",
       "        7.07070707,  7.17171717,  7.27272727,  7.37373737,  7.47474747,\n",
       "        7.57575758,  7.67676768,  7.77777778,  7.87878788,  7.97979798,\n",
       "        8.08080808,  8.18181818,  8.28282828,  8.38383838,  8.48484848,\n",
       "        8.58585859,  8.68686869,  8.78787879,  8.88888889,  8.98989899,\n",
       "        9.09090909,  9.19191919,  9.29292929,  9.39393939,  9.49494949,\n",
       "        9.5959596 ,  9.6969697 ,  9.7979798 ,  9.8989899 , 10.        ])"
      ]
     },
     "execution_count": 86,
     "metadata": {},
     "output_type": "execute_result"
    }
   ],
   "source": [
    "x"
   ]
  },
  {
   "cell_type": "code",
   "execution_count": 87,
   "metadata": {},
   "outputs": [
    {
     "data": {
      "text/plain": [
       "<Figure size 432x288 with 0 Axes>"
      ]
     },
     "metadata": {},
     "output_type": "display_data"
    }
   ],
   "source": [
    "fig = plt.figure()"
   ]
  },
  {
   "cell_type": "markdown",
   "metadata": {},
   "source": [
    "##### Calculating the sin of evenly spaced values"
   ]
  },
  {
   "cell_type": "code",
   "execution_count": 88,
   "metadata": {},
   "outputs": [
    {
     "data": {
      "text/plain": [
       "array([ 0.        ,  0.10083842,  0.20064886,  0.2984138 ,  0.39313661,\n",
       "        0.48385164,  0.56963411,  0.64960951,  0.72296256,  0.78894546,\n",
       "        0.84688556,  0.8961922 ,  0.93636273,  0.96698762,  0.98775469,\n",
       "        0.99845223,  0.99897117,  0.98930624,  0.96955595,  0.93992165,\n",
       "        0.90070545,  0.85230712,  0.79522006,  0.73002623,  0.65739025,\n",
       "        0.57805259,  0.49282204,  0.40256749,  0.30820902,  0.21070855,\n",
       "        0.11106004,  0.01027934, -0.09060615, -0.19056796, -0.28858706,\n",
       "       -0.38366419, -0.47483011, -0.56115544, -0.64176014, -0.7158225 ,\n",
       "       -0.7825875 , -0.84137452, -0.89158426, -0.93270486, -0.96431712,\n",
       "       -0.98609877, -0.99782778, -0.99938456, -0.99075324, -0.97202182,\n",
       "       -0.94338126, -0.90512352, -0.85763861, -0.80141062, -0.73701276,\n",
       "       -0.66510151, -0.58640998, -0.50174037, -0.41195583, -0.31797166,\n",
       "       -0.22074597, -0.12126992, -0.0205576 ,  0.0803643 ,  0.18046693,\n",
       "        0.27872982,  0.37415123,  0.46575841,  0.55261747,  0.63384295,\n",
       "        0.7086068 ,  0.77614685,  0.83577457,  0.8868821 ,  0.92894843,\n",
       "        0.96154471,  0.98433866,  0.99709789,  0.99969234,  0.99209556,\n",
       "        0.97438499,  0.94674118,  0.90944594,  0.86287948,  0.8075165 ,\n",
       "        0.74392141,  0.6727425 ,  0.59470541,  0.51060568,  0.42130064,\n",
       "        0.32770071,  0.23076008,  0.13146699,  0.03083368, -0.07011396,\n",
       "       -0.17034683, -0.26884313, -0.36459873, -0.45663749, -0.54402111])"
      ]
     },
     "execution_count": 88,
     "metadata": {},
     "output_type": "execute_result"
    }
   ],
   "source": [
    "np.sin(x)"
   ]
  },
  {
   "cell_type": "markdown",
   "metadata": {},
   "source": [
    "##### To be familiar with how sine and coine works you should be familiar with their mathematical background"
   ]
  },
  {
   "cell_type": "code",
   "execution_count": 92,
   "metadata": {},
   "outputs": [
    {
     "data": {
      "image/png": "[encoded data removed]",
      "text/plain": [
       "<Figure size 432x288 with 1 Axes>"
      ]
     },
     "metadata": {
      "needs_background": "light"
     },
     "output_type": "display_data"
    }
   ],
   "source": [
    "plt.plot(x, np.sin(x), '-')\n",
    "plt.plot(x, np.cos(x), '--');\n",
    "plt.savefig('my_figure.png')\n",
    "plt.show()"
   ]
  },
  {
   "cell_type": "markdown",
   "metadata": {},
   "source": [
    "### Saving Figures to File\n",
    "\n",
    "One nice feature of Matplotlib is the ability to save figures in a wide variety of formats.\n",
    "Saving a figure can be done using the ``savefig()`` command.\n",
    "Make sure that you save the figure first then only show it."
   ]
  },
  {
   "cell_type": "markdown",
   "metadata": {},
   "source": [
    "We now have a file called ``my_figure.png`` in the current working directory:"
   ]
  },
  {
   "cell_type": "code",
   "execution_count": 93,
   "metadata": {},
   "outputs": [
    {
     "name": "stdout",
     "output_type": "stream",
     "text": [
      "-rw-r--r--@ 1 saadnaeem  staff    26K Apr 21 11:17 my_figure.png\r\n"
     ]
    }
   ],
   "source": [
    "!ls -lh my_figure.png"
   ]
  },
  {
   "cell_type": "code",
   "execution_count": 49,
   "metadata": {},
   "outputs": [
    {
     "name": "stdout",
     "output_type": "stream",
     "text": [
      "\r\n",
      "LS(1)                     BSD General Commands Manual                    LS(1)\r\n",
      "\r\n",
      "N\bNA\bAM\bME\bE\r\n",
      "     l\bls\bs -- list directory contents\r\n",
      "\r\n",
      "S\bSY\bYN\bNO\bOP\bPS\bSI\bIS\bS\r\n",
      "     l\bls\bs [-\b-A\bAB\bBC\bCF\bFG\bGH\bHL\bLO\bOP\bPR\bRS\bST\bTU\bUW\bW@\b@a\bab\bbc\bcd\bde\bef\bfg\bgh\bhi\bik\bkl\blm\bmn\bno\bop\bpq\bqr\brs\bst\btu\buw\bwx\bx1\b1%\b%] [_\bf_\bi_\bl_\be _\b._\b._\b.]\r\n",
      "\r\n",
      "D\bDE\bES\bSC\bCR\bRI\bIP\bPT\bTI\bIO\bON\bN\r\n",
      "     For each operand that names a _\bf_\bi_\bl_\be of a type other than directory, l\bls\bs\r\n",
      "     displays its name as well as any requested, associated information.  For\r\n",
      "     each operand that names a _\bf_\bi_\bl_\be of type directory, l\bls\bs displays the names\r\n",
      "     of files contained within that directory, as well as any requested, asso-\r\n",
      "     ciated information.\r\n",
      "\r\n",
      "     If no operands are given, the contents of the current directory are dis-\r\n",
      "     played.  If more than one operand is given, non-directory operands are\r\n",
      "     displayed first; directory and non-directory operands are sorted sepa-\r\n",
      "     rately and in lexicographical order.\r\n",
      "\r\n",
      "     The following options are available:\r\n",
      "\r\n",
      "     -\b-@\b@      Display extended attribute keys and sizes in long (-\b-l\bl) output.\r\n",
      "\r\n",
      "     -\b-1\b1      (The numeric digit ``one''.)  Force output to be one entry per\r\n",
      "             line.  This is the default when output is not to a terminal.\r\n",
      "\r\n",
      "     -\b-A\bA      List all entries except for _\b. and _\b._\b..  Always set for the super-\r\n",
      "             user.\r\n",
      "\r\n",
      "     -\b-a\ba      Include directory entries whose names begin with a dot (_\b.).\r\n",
      "\r\n",
      "     -\b-B\bB      Force printing of non-printable characters (as defined by\r\n",
      "             ctype(3) and current locale settings) in file names as \\_\bx_\bx_\bx,\r\n",
      "             where _\bx_\bx_\bx is the numeric value of the character in octal.\r\n",
      "\r\n",
      "     -\b-b\bb      As -\b-B\bB, but use C escape codes whenever possible.\r\n",
      "\r\n",
      "     -\b-C\bC      Force multi-column output; this is the default when output is to\r\n",
      "             a terminal.\r\n",
      "\r\n",
      "     -\b-c\bc      Use time when file status was last changed for sorting (-\b-t\bt) or\r\n",
      "             long printing (-\b-l\bl).\r\n",
      "\r\n",
      "     -\b-d\bd      Directories are listed as plain files (not searched recursively).\r\n",
      "\r\n",
      "     -\b-e\be      Print the Access Control List (ACL) associated with the file, if\r\n",
      "             present, in long (-\b-l\bl) output.\r\n",
      "\r\n",
      "     -\b-F\bF      Display a slash (`/') immediately after each pathname that is a\r\n",
      "             directory, an asterisk (`*') after each that is executable, an at\r\n",
      "             sign (`@') after each symbolic link, an equals sign (`=') after\r\n",
      "             each socket, a percent sign (`%') after each whiteout, and a ver-\r\n",
      "             tical bar (`|') after each that is a FIFO.\r\n",
      "\r\n",
      "     -\b-f\bf      Output is not sorted.  This option turns on the -\b-a\ba option.\r\n",
      "\r\n",
      "     -\b-G\bG      Enable colorized output.  This option is equivalent to defining\r\n",
      "             CLICOLOR in the environment.  (See below.)\r\n",
      "\r\n",
      "     -\b-g\bg      This option is only available for compatibility with POSIX; it is\r\n",
      "             used to display the group name in the long (-\b-l\bl) format output\r\n",
      "             (the owner name is suppressed).\r\n",
      "\r\n",
      "     -\b-H\bH      Symbolic links on the command line are followed.  This option is\r\n",
      "             assumed if none of the -\b-F\bF, -\b-d\bd, or -\b-l\bl options are specified.\r\n",
      "\r\n",
      "     -\b-h\bh      When used with the -\b-l\bl option, use unit suffixes: Byte, Kilobyte,\r\n",
      "             Megabyte, Gigabyte, Terabyte and Petabyte in order to reduce the\r\n",
      "             number of digits to three or less using base 2 for sizes.\r\n",
      "\r\n",
      "     -\b-i\bi      For each file, print the file's file serial number (inode num-\r\n",
      "             ber).\r\n",
      "\r\n",
      "     -\b-k\bk      If the -\b-s\bs option is specified, print the file size allocation in\r\n",
      "             kilobytes, not blocks.  This option overrides the environment\r\n",
      "             variable BLOCKSIZE.\r\n",
      "\r\n",
      "     -\b-L\bL      Follow all symbolic links to final target and list the file or\r\n",
      "             directory the link references rather than the link itself.  This\r\n",
      "             option cancels the -\b-P\bP option.\r\n",
      "\r\n",
      "     -\b-l\bl      (The lowercase letter ``ell''.)  List in long format.  (See\r\n",
      "             below.)  A total sum for all the file sizes is output on a line\r\n",
      "             before the long listing.\r\n",
      "\r\n",
      "     -\b-m\bm      Stream output format; list files across the page, separated by\r\n",
      "             commas.\r\n",
      "\r\n",
      "     -\b-n\bn      Display user and group IDs numerically, rather than converting to\r\n",
      "             a user or group name in a long (-\b-l\bl) output.  This option turns on\r\n",
      "             the -\b-l\bl option.\r\n",
      "\r\n",
      "     -\b-O\bO      Include the file flags in a long (-\b-l\bl) output.\r\n",
      "\r\n",
      "     -\b-o\bo      List in long format, but omit the group id.\r\n",
      "\r\n",
      "     -\b-P\bP      If argument is a symbolic link, list the link itself rather than\r\n",
      "             the object the link references.  This option cancels the -\b-H\bH and\r\n",
      "             -\b-L\bL options.\r\n",
      "\r\n",
      "     -\b-p\bp      Write a slash (`/') after each filename if that file is a direc-\r\n",
      "             tory.\r\n",
      "\r\n",
      "     -\b-q\bq      Force printing of non-graphic characters in file names as the\r\n",
      "             character `?'; this is the default when output is to a terminal.\r\n",
      "\r\n",
      "     -\b-R\bR      Recursively list subdirectories encountered.\r\n",
      "\r\n",
      "     -\b-r\br      Reverse the order of the sort to get reverse lexicographical\r\n",
      "             order or the oldest entries first (or largest files last, if com-\r\n",
      "             bined with sort by size\r\n",
      "\r\n",
      "     -\b-S\bS      Sort files by size\r\n",
      "\r\n",
      "     -\b-s\bs      Display the number of file system blocks actually used by each\r\n",
      "             file, in units of 512 bytes, where partial units are rounded up\r\n",
      "             to the next integer value.  If the output is to a terminal, a\r\n",
      "             total sum for all the file sizes is output on a line before the\r\n",
      "             listing.  The environment variable BLOCKSIZE overrides the unit\r\n",
      "             size of 512 bytes.\r\n",
      "\r\n",
      "     -\b-T\bT      When used with the -\b-l\bl (lowercase letter ``ell'') option, display\r\n",
      "             complete time information for the file, including month, day,\r\n",
      "             hour, minute, second, and year.\r\n",
      "\r\n",
      "     -\b-t\bt      Sort by time modified (most recently modified first) before sort-\r\n",
      "             ing the operands by lexicographical order.\r\n",
      "\r\n",
      "     -\b-u\bu      Use time of last access, instead of last modification of the file\r\n",
      "             for sorting (-\b-t\bt) or long printing (-\b-l\bl).\r\n",
      "\r\n",
      "     -\b-U\bU      Use time of file creation, instead of last modification for sort-\r\n",
      "             ing (-\b-t\bt) or long output (-\b-l\bl).\r\n",
      "\r\n",
      "     -\b-v\bv      Force unedited printing of non-graphic characters; this is the\r\n",
      "             default when output is not to a terminal.\r\n",
      "\r\n",
      "     -\b-W\bW      Display whiteouts when scanning directories.  (-\b-S\bS) flag).\r\n",
      "\r\n",
      "     -\b-w\bw      Force raw printing of non-printable characters.  This is the\r\n",
      "             default when output is not to a terminal.\r\n",
      "\r\n",
      "     -\b-x\bx      The same as -\b-C\bC, except that the multi-column output is produced\r\n",
      "             with entries sorted across, rather than down, the columns.\r\n",
      "\r\n",
      "     -\b-%\b%      Distinguish dataless files and directories with a '%' character\r\n",
      "             in long (-\b-l\bl) output, and don't materialize dataless directories\r\n",
      "             when listing them.\r\n",
      "\r\n",
      "     The -\b-1\b1, -\b-C\bC, -\b-x\bx, and -\b-l\bl options all override each other; the last one\r\n",
      "     specified determines the format used.\r\n",
      "\r\n",
      "     The -\b-c\bc and -\b-u\bu options override each other; the last one specified deter-\r\n",
      "     mines the file time used.\r\n",
      "\r\n",
      "     The -\b-B\bB, -\b-b\bb, -\b-w\bw, and -\b-q\bq options all override each other; the last one\r\n",
      "     specified determines the format used for non-printable characters.\r\n",
      "\r\n",
      "     The -\b-H\bH, -\b-L\bL and -\b-P\bP options all override each other (either partially or\r\n",
      "     fully); they are applied in the order specified.\r\n",
      "\r\n",
      "     By default, l\bls\bs lists one entry per line to standard output; the excep-\r\n",
      "     tions are to terminals or when the -\b-C\bC or -\b-x\bx options are specified.\r\n",
      "\r\n",
      "     File information is displayed with one or more <blank>s separating the\r\n",
      "     information associated with the -\b-i\bi, -\b-s\bs, and -\b-l\bl options.\r\n",
      "\r\n",
      "   T\bTh\bhe\be L\bLo\bon\bng\bg F\bFo\bor\brm\bma\bat\bt\r\n",
      "     If the -\b-l\bl option is given, the following information is displayed for\r\n",
      "     each file: file mode, number of links, owner name, group name, number of\r\n",
      "     bytes in the file, abbreviated month, day-of-month file was last modi-\r\n",
      "     fied, hour file last modified, minute file last modified, and the path-\r\n",
      "     name.  In addition, for each directory whose contents are displayed, the\r\n",
      "     total number of 512-byte blocks used by the files in the directory is\r\n",
      "     displayed on a line by itself, immediately before the information for the\r\n",
      "     files in the directory.  If the file or directory has extended\r\n",
      "     attributes, the permissions field printed by the -\b-l\bl option is followed by\r\n",
      "     a '@' character.  Otherwise, if the file or directory has extended secu-\r\n",
      "     rity information (such as an access control list), the permissions field\r\n",
      "     printed by the -\b-l\bl option is followed by a '+' character.  If the -\b-%\b%\r\n",
      "     option is given, a '%' character follows the permissions field for data-\r\n",
      "     less files and directories, possibly replacing the '@' or '+' character.\r\n",
      "\r",
      "\r\n",
      "     If the modification time of the file is more than 6 months in the past or\r\n",
      "     future, then the year of the last modification is displayed in place of\r\n",
      "     the hour and minute fields.\r\n",
      "\r\n",
      "     If the owner or group names are not a known user or group name, or the -\b-n\bn\r\n",
      "     option is given, the numeric ID's are displayed.\r\n",
      "\r\n",
      "     If the file is a character special or block special file, the major and\r\n",
      "     minor device numbers for the file are displayed in the size field.  If\r\n",
      "     the file is a symbolic link, the pathname of the linked-to file is pre-\r\n",
      "     ceded by ``->''.\r\n",
      "\r\n",
      "     The file mode printed under the -\b-l\bl option consists of the entry type,\r\n",
      "     owner permissions, and group permissions.  The entry type character\r\n",
      "     describes the type of file, as follows:\r\n",
      "\r\n",
      "           b\bb     Block special file.\r\n",
      "           c\bc     Character special file.\r\n",
      "           d\bd     Directory.\r\n",
      "           l\bl     Symbolic link.\r\n",
      "           s\bs     Socket link.\r\n",
      "           p\bp     FIFO.\r\n",
      "           -\b-     Regular file.\r\n",
      "\r\n",
      "     The next three fields are three characters each: owner permissions, group\r\n",
      "     permissions, and other permissions.  Each field has three character posi-\r\n",
      "     tions:\r\n",
      "\r\n",
      "           1.   If r\br, the file is readable; if -\b-, it is not readable.\r\n",
      "\r\n",
      "           2.   If w\bw, the file is writable; if -\b-, it is not writable.\r\n",
      "\r\n",
      "           3.   The first of the following that applies:\r\n",
      "\r\n",
      "                      S\bS     If in the owner permissions, the file is not exe-\r\n",
      "                            cutable and set-user-ID mode is set.  If in the\r\n",
      "                            group permissions, the file is not executable and\r\n",
      "                            set-group-ID mode is set.\r\n",
      "\r\n",
      "                      s\bs     If in the owner permissions, the file is exe-\r\n",
      "                            cutable and set-user-ID mode is set.  If in the\r\n",
      "                            group permissions, the file is executable and set-\r\n",
      "                            group-ID mode is set.\r\n",
      "\r\n",
      "                      x\bx     The file is executable or the directory is search-\r\n",
      "                            able.\r\n",
      "\r\n",
      "                      -\b-     The file is neither readable, writable, exe-\r\n",
      "                            cutable, nor set-user-ID nor set-group-ID mode,\r\n",
      "                            nor sticky.  (See below.)\r\n",
      "\r\n",
      "                These next two apply only to the third character in the last\r\n",
      "                group (other permissions).\r\n",
      "\r\n",
      "                      T\bT     The sticky bit is set (mode 1000), but not execute\r\n",
      "                            or search permission.  (See chmod(1) or\r\n",
      "                            sticky(8).)\r\n",
      "\r\n",
      "                      t\bt     The sticky bit is set (mode 1000), and is search-\r\n",
      "                            able or executable.  (See chmod(1) or sticky(8).)\r\n",
      "\r\n",
      "E\bEX\bXA\bAM\bMP\bPL\bLE\bES\bS\r\n",
      "     The following is how to do an l\bls\bs listing sorted by increasing size\r\n",
      "\r\n",
      "           ls -lrS\r\n",
      "\r\n",
      "D\bDI\bIA\bAG\bGN\bNO\bOS\bST\bTI\bIC\bCS\bS\r\n",
      "     The l\bls\bs utility exits 0 on success, and >0 if an error occurs.\r\n",
      "\r\n",
      "E\bEN\bNV\bVI\bIR\bRO\bON\bNM\bME\bEN\bNT\bT\r\n",
      "     The following environment variables affect the execution of l\bls\bs:\r\n",
      "\r\n",
      "     BLOCKSIZE       If the environment variable BLOCKSIZE is set, the block\r\n",
      "                     counts (see -\b-s\bs) will be displayed in units of that size\r\n",
      "                     block.\r\n",
      "\r\n",
      "     CLICOLOR        Use ANSI color sequences to distinguish file types.  See\r\n",
      "                     LSCOLORS below.  In addition to the file types mentioned\r\n",
      "                     in the -\b-F\bF option some extra attributes (setuid bit set,\r\n",
      "                     etc.) are also displayed.  The colorization is dependent\r\n",
      "                     on a terminal type with the proper termcap(5) capabili-\r\n",
      "                     ties.  The default ``cons25'' console has the proper\r\n",
      "                     capabilities, but to display the colors in an xterm(1),\r\n",
      "                     for example, the TERM variable must be set to\r\n",
      "                     ``xterm-color''.  Other terminal types may require simi-\r\n",
      "                     lar adjustments.  Colorization is silently disabled if\r\n",
      "                     the output isn't directed to a terminal unless the\r\n",
      "                     CLICOLOR_FORCE variable is defined.\r\n",
      "\r\n",
      "     CLICOLOR_FORCE  Color sequences are normally disabled if the output isn't\r\n",
      "                     directed to a terminal.  This can be overridden by set-\r\n",
      "                     ting this flag.  The TERM variable still needs to refer-\r\n",
      "                     ence a color capable terminal however otherwise it is not\r\n",
      "                     possible to determine which color sequences to use.\r\n",
      "\r\n",
      "     COLUMNS         If this variable contains a string representing a decimal\r\n",
      "                     integer, it is used as the column position width for dis-\r\n",
      "                     playing multiple-text-column output.  The l\bls\bs utility cal-\r\n",
      "                     culates how many pathname text columns to display based\r\n",
      "                     on the width provided.  (See -\b-C\bC and -\b-x\bx.)\r\n",
      "\r\n",
      "     LANG            The locale to use when determining the order of day and\r\n",
      "                     month in the long -\b-l\bl format output.  See environ(7) for\r\n",
      "                     more information.\r\n",
      "\r\n",
      "     LSCOLORS        The value of this variable describes what color to use\r\n",
      "                     for which attribute when colors are enabled with\r\n",
      "                     CLICOLOR.  This string is a concatenation of pairs of the\r\n",
      "                     format _\bf_\bb, where _\bf is the foreground color and _\bb is the\r\n",
      "                     background color.\r\n",
      "\r\n",
      "                     The color designators are as follows:\r\n",
      "\r\n",
      "                           a\ba     black\r\n",
      "                           b\bb     red\r\n",
      "                           c\bc     green\r\n",
      "                           d\bd     brown\r\n",
      "                           e\be     blue\r\n",
      "                           f\bf     magenta\r\n",
      "                           g\bg     cyan\r\n",
      "                           h\bh     light grey\r\n",
      "                           A\bA     bold black, usually shows up as dark grey\r\n",
      "                           B\bB     bold red\r\n",
      "                           C\bC     bold green\r\n",
      "                           D\bD     bold brown, usually shows up as yellow\r\n",
      "                           E\bE     bold blue\r\n",
      "                           F\bF     bold magenta\r\n",
      "                           G\bG     bold cyan\r\n",
      "                           H\bH     bold light grey; looks like bright white\r\n",
      "                           x\bx     default foreground or background\r\n",
      "\r\n",
      "                     Note that the above are standard ANSI colors.  The actual\r\n",
      "                     display may differ depending on the color capabilities of\r\n",
      "                     the terminal in use.\r\n",
      "\r\n",
      "                     The order of the attributes are as follows:\r\n",
      "\r\n",
      "                           1.   directory\r\n",
      "                           2.   symbolic link\r\n",
      "                           3.   socket\r\n",
      "                           4.   pipe\r\n",
      "                           5.   executable\r\n",
      "                           6.   block special\r\n",
      "                           7.   character special\r\n",
      "                           8.   executable with setuid bit set\r\n",
      "                           9.   executable with setgid bit set\r\n",
      "                           10.  directory writable to others, with sticky bit\r\n",
      "                           11.  directory writable to others, without sticky\r\n",
      "                                bit\r\n",
      "\r\n",
      "                     The default is \"exfxcxdxbxegedabagacad\", i.e. blue fore-\r\n",
      "                     ground and default background for regular directories,\r\n",
      "                     black foreground and red background for setuid executa-\r\n",
      "                     bles, etc.\r\n",
      "\r\n",
      "     LS_COLWIDTHS    If this variable is set, it is considered to be a colon-\r\n",
      "                     delimited list of minimum column widths.  Unreasonable\r\n",
      "                     and insufficient widths are ignored (thus zero signifies\r\n",
      "                     a dynamically sized column).  Not all columns have\r\n",
      "                     changeable widths.  The fields are, in order: inode,\r\n",
      "                     block count, number of links, user name, group name,\r\n",
      "                     flags, file size, file name.\r\n",
      "\r\n",
      "     TERM            The CLICOLOR functionality depends on a terminal type\r\n",
      "                     with color capabilities.\r\n",
      "\r\n",
      "     TZ              The timezone to use when displaying dates.  See\r\n",
      "                     environ(7) for more information.\r\n",
      "\r\n",
      "C\bCO\bOM\bMP\bPA\bAT\bTI\bIB\bBI\bIL\bLI\bIT\bTY\bY\r\n",
      "     The group field is now automatically included in the long listing for\r\n",
      "     files in order to be compatible with the IEEE Std 1003.2 (``POSIX.2'')\r\n",
      "     specification.\r\n",
      "\r\n",
      "L\bLE\bEG\bGA\bAC\bCY\bY D\bDE\bES\bSC\bCR\bRI\bIP\bPT\bTI\bIO\bON\bN\r\n",
      "     In legacy mode, the -\b-f\bf option does not turn on the -\b-a\ba option and the -\b-g\bg,\r\n",
      "     -\b-n\bn, and -\b-o\bo options do not turn on the -\b-l\bl option.\r\n",
      "\r\n",
      "     Also, the -\b-o\bo option causes the file flags to be included in a long (-l)\r\n",
      "     output; there is no -\b-O\bO option.\r\n",
      "\r\n",
      "     When -\b-H\bH is specified (and not overridden by -\b-L\bL or -\b-P\bP) and a file argument\r\n",
      "     is a symlink that resolves to a non-directory file, the output will\r\n",
      "     reflect the nature of the link, rather than that of the file.  In legacy\r\n",
      "     operation, the output will describe the file.\r\n",
      "\r\n",
      "     For more information about legacy mode, see compat(5).\r\n",
      "\r\n",
      "S\bSE\bEE\bE A\bAL\bLS\bSO\bO\r\n",
      "     chflags(1), chmod(1), sort(1), xterm(1), compat(5), termcap(5),\r\n",
      "     symlink(7), sticky(8)\r\n",
      "\r\n",
      "S\bST\bTA\bAN\bND\bDA\bAR\bRD\bDS\bS\r\n",
      "     The l\bls\bs utility conforms to IEEE Std 1003.1-2001 (``POSIX.1'').\r\n",
      "\r\n",
      "H\bHI\bIS\bST\bTO\bOR\bRY\bY\r\n",
      "     An l\bls\bs command appeared in Version 1 AT&T UNIX.\r\n",
      "\r\n",
      "B\bBU\bUG\bGS\bS\r\n",
      "     To maintain backward compatibility, the relationships between the many\r\n",
      "     options are quite complex.\r\n",
      "\r\n",
      "BSD                              May 19, 2002                              BSD\r\n"
     ]
    }
   ],
   "source": [
    "!man ls"
   ]
  },
  {
   "cell_type": "markdown",
   "metadata": {},
   "source": [
    "To confirm that it contains what we think it contains, let's use the IPython ``Image`` object to display the contents of this file:"
   ]
  },
  {
   "cell_type": "code",
   "execution_count": 94,
   "metadata": {},
   "outputs": [
    {
     "data": {
      "image/png": "[encoded data removed]",
      "text/plain": [
       "<IPython.core.display.Image object>"
      ]
     },
     "execution_count": 94,
     "metadata": {},
     "output_type": "execute_result"
    }
   ],
   "source": [
    "from IPython.display import Image\n",
    "Image('my_figure.png')"
   ]
  },
  {
   "cell_type": "markdown",
   "metadata": {},
   "source": [
    "In ``savefig()``, the file format is inferred from the extension of the given filename.\n",
    "Depending on what backends you have installed, many different file formats are available.\n",
    "The list of supported file types can be found for your system by using the following method of the figure canvas object:"
   ]
  },
  {
   "cell_type": "code",
   "execution_count": 51,
   "metadata": {},
   "outputs": [
    {
     "data": {
      "text/plain": [
       "{'eps': 'Encapsulated Postscript',\n",
       " 'jpg': 'Joint Photographic Experts Group',\n",
       " 'jpeg': 'Joint Photographic Experts Group',\n",
       " 'pdf': 'Portable Document Format',\n",
       " 'pgf': 'PGF code for LaTeX',\n",
       " 'png': 'Portable Network Graphics',\n",
       " 'ps': 'Postscript',\n",
       " 'raw': 'Raw RGBA bitmap',\n",
       " 'rgba': 'Raw RGBA bitmap',\n",
       " 'svg': 'Scalable Vector Graphics',\n",
       " 'svgz': 'Scalable Vector Graphics',\n",
       " 'tif': 'Tagged Image File Format',\n",
       " 'tiff': 'Tagged Image File Format'}"
      ]
     },
     "execution_count": 51,
     "metadata": {},
     "output_type": "execute_result"
    }
   ],
   "source": [
    "fig.canvas.get_supported_filetypes()"
   ]
  },
  {
   "cell_type": "markdown",
   "metadata": {},
   "source": [
    "Note that when saving your figure, it's not necessary to use ``plt.show()`` or related commands discussed earlier."
   ]
  },
  {
   "cell_type": "markdown",
   "metadata": {},
   "source": [
    "## Two Interfaces for the Price of One\n",
    "\n",
    "A potentially confusing feature of Matplotlib is its dual interfaces: a convenient MATLAB-style state-based interface, and a more powerful object-oriented interface. We'll quickly highlight the differences between the two here."
   ]
  },
  {
   "cell_type": "markdown",
   "metadata": {},
   "source": [
    "#### MATLAB-style Interface\n",
    "\n",
    "Matplotlib was originally written as a Python alternative for MATLAB users, and much of its syntax reflects that fact.\n",
    "The MATLAB-style tools are contained in the pyplot (``plt``) interface.\n",
    "For example, the following code will probably look quite familiar to MATLAB users:"
   ]
  },
  {
   "cell_type": "code",
   "execution_count": 102,
   "metadata": {},
   "outputs": [
    {
     "data": {
      "image/png": "[encoded data removed]",
      "text/plain": [
       "<Figure size 432x288 with 2 Axes>"
      ]
     },
     "metadata": {
      "needs_background": "light"
     },
     "output_type": "display_data"
    }
   ],
   "source": [
    "plt.figure()  # create a plot figure\n",
    "\n",
    "# create the first of two panels and set current axis\n",
    "plt.subplot(1, 2, 2) # (rows, columns, panel number) \n",
    "#How many rows How many cols (try 2) i.e The grid will have 2 rows and 1 col Top Plot index/Panel Number = 1\n",
    "plt.plot(x, np.sin(x))\n",
    "# Swap the panels\n",
    "# create the second panel and set current axis Bottom Plot index/Panel Number = 2\n",
    "plt.subplot(1, 2, 1)\n",
    "plt.plot(x, np.cos(x));\n"
   ]
  },
  {
   "cell_type": "markdown",
   "metadata": {},
   "source": [
    "It is important to note that this interface is *stateful*: it keeps track of the \"current\" figure and axes, which are where all ``plt`` commands are applied.\n",
    "You can get a reference to these using the ``plt.gcf()`` (get current figure) and ``plt.gca()`` (get current axes) routines.\n",
    "\n",
    "While this stateful interface is fast and convenient for simple plots, it is easy to run into problems.\n",
    "For example, once the second panel is created, how can we go back and add something to the first?\n",
    "This is possible within the MATLAB-style interface, but a bit clunky.\n",
    "Fortunately, there is a better way."
   ]
  },
  {
   "cell_type": "markdown",
   "metadata": {},
   "source": [
    "#### Object-oriented interface\n",
    "\n",
    "The object-oriented interface is available for these more complicated situations, and for when you want more control over your figure.\n",
    "Rather than depending on some notion of an \"active\" figure or axes, in the object-oriented interface the plotting functions are *methods* of explicit ``Figure`` and ``Axes`` objects.\n",
    "To re-create the previous plot using this style of plotting, you might do the following:"
   ]
  },
  {
   "cell_type": "code",
   "execution_count": 100,
   "metadata": {},
   "outputs": [
    {
     "data": {
      "image/png": "[encoded data removed]",
      "text/plain": [
       "<Figure size 432x288 with 2 Axes>"
      ]
     },
     "metadata": {
      "needs_background": "light"
     },
     "output_type": "display_data"
    }
   ],
   "source": [
    "# First create a grid of plots\n",
    "# ax will be an array of two Axes objects\n",
    "fig, ax = plt.subplots(2) # returning blank canvas/frame and axis object\n",
    "\n",
    "# Call plot() method on the appropriate object\n",
    "ax[1].plot(x, np.sin(x))\n",
    "ax[0].plot(x, np.cos(x));"
   ]
  },
  {
   "cell_type": "markdown",
   "metadata": {},
   "source": [
    "For more simple plots, the choice of which style to use is largely a matter of preference, but the object-oriented approach can become a necessity as plots become more complicated.\n",
    "Throughout our labs, we will switch between the MATLAB-style and object-oriented interfaces, depending on what is most convenient.\n",
    "In most cases, the difference is as small as switching ``plt.plot()`` to ``ax.plot()``, but there are a few gotchas that I will highlight as they come up in the following sections."
   ]
  }
 ],
 "metadata": {
  "anaconda-cloud": {},
  "kernelspec": {
   "display_name": "Python 3",
   "language": "python",
   "name": "python3"
  },
  "language_info": {
   "codemirror_mode": {
    "name": "ipython",
    "version": 3
   },
   "file_extension": ".py",
   "mimetype": "text/x-python",
   "name": "python",
   "nbconvert_exporter": "python",
   "pygments_lexer": "ipython3",
   "version": "3.7.4"
  }
 },
 "nbformat": 4,
 "nbformat_minor": 1
}
