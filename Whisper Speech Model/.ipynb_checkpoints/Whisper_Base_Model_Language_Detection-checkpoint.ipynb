{
 "cells": [
  {
   "cell_type": "code",
   "execution_count": 1,
   "id": "58e05c7c-0a9e-491d-8587-ba6646811aad",
   "metadata": {},
   "outputs": [
    {
     "name": "stderr",
     "output_type": "stream",
     "text": [
      "/home/rizwan/miniconda3/envs/enterprise_env/lib/python3.8/site-packages/whisper/timing.py:58: NumbaDeprecationWarning: The 'nopython' keyword argument was not supplied to the 'numba.jit' decorator. The implicit default value for this argument is currently False, but it will be changed to True in Numba 0.59.0. See https://numba.readthedocs.io/en/stable/reference/deprecation.html#deprecation-of-object-mode-fall-back-behaviour-when-using-jit for details.\n",
      "  def backtrace(trace: np.ndarray):\n"
     ]
    }
   ],
   "source": [
    "import whisper\n",
    "import os"
   ]
  },
  {
   "cell_type": "markdown",
   "id": "f5eecdb8-cce1-4857-be2e-8c1ae34c1c73",
   "metadata": {},
   "source": [
    "## Loading  Whisper \"base\" model"
   ]
  },
  {
   "cell_type": "code",
   "execution_count": 3,
   "id": "848b7985-4548-4da2-b198-624dbe05b434",
   "metadata": {},
   "outputs": [],
   "source": [
    "model = whisper.load_model(\"base\")"
   ]
  },
  {
   "cell_type": "markdown",
   "id": "0ff71c11-20dd-445f-927e-7b47f83bb17c",
   "metadata": {},
   "source": [
    "## Load audio and pad/trim it to fit 30 seconds"
   ]
  },
  {
   "cell_type": "code",
   "execution_count": 8,
   "id": "c9319d13-1ee1-45a2-bd13-14bf5a4cc022",
   "metadata": {},
   "outputs": [
    {
     "data": {
      "text/plain": [
       "array([ 0.        ,  0.        ,  0.        , ..., -0.03106689,\n",
       "       -0.02328491, -0.03161621], dtype=float32)"
      ]
     },
     "execution_count": 8,
     "metadata": {},
     "output_type": "execute_result"
    }
   ],
   "source": [
    "cwd = os.getcwd()\n",
    "audio = whisper.load_audio(\"audio/audio.mp3\")\n",
    "audio = whisper.pad_or_trim(audio)\n",
    "audio"
   ]
  },
  {
   "cell_type": "markdown",
   "id": "ff8c71bd-9a45-459d-9c47-ad773014ee6b",
   "metadata": {},
   "source": [
    "## log-Mel spectrogram and move to the same device as the model"
   ]
  },
  {
   "cell_type": "code",
   "execution_count": 7,
   "id": "fbb64ffd-de87-4878-81ea-74d0ebc31cdc",
   "metadata": {},
   "outputs": [
    {
     "data": {
      "text/plain": [
       "tensor([[-0.5114, -0.5114, -0.5114,  ...,  0.1901,  0.0027,  0.0676],\n",
       "        [-0.5114, -0.5114, -0.5114,  ...,  0.2091,  0.2996,  0.2781],\n",
       "        [-0.5114, -0.5114, -0.5114,  ...,  0.8886,  0.8409,  0.7257],\n",
       "        ...,\n",
       "        [-0.5114, -0.5114, -0.5114,  ..., -0.0511,  0.0506,  0.1451],\n",
       "        [-0.5114, -0.5114, -0.5114,  ..., -0.0856, -0.0587, -0.0175],\n",
       "        [-0.5114, -0.5114, -0.5114,  ..., -0.3324, -0.2794, -0.1445]],\n",
       "       device='cuda:0')"
      ]
     },
     "execution_count": 7,
     "metadata": {},
     "output_type": "execute_result"
    }
   ],
   "source": [
    "mel = whisper.log_mel_spectrogram(audio).to(model.device)\n",
    "mel"
   ]
  },
  {
   "cell_type": "markdown",
   "id": "90162322-91b9-422a-bda1-949562f88215",
   "metadata": {},
   "source": [
    "## Detect the spoken language"
   ]
  },
  {
   "cell_type": "code",
   "execution_count": 9,
   "id": "826f61a7-542f-4183-9519-2b4d8f40599e",
   "metadata": {},
   "outputs": [
    {
     "name": "stdout",
     "output_type": "stream",
     "text": [
      "Detected language: en\n"
     ]
    }
   ],
   "source": [
    "_, probs = model.detect_language(mel)\n",
    "print(f\"Detected language: {max(probs, key=probs.get)}\")"
   ]
  },
  {
   "cell_type": "markdown",
   "id": "9f9f74cb-a1c4-4077-ab12-28227d1bf749",
   "metadata": {},
   "source": [
    "## Decode the audio"
   ]
  },
  {
   "cell_type": "code",
   "execution_count": 10,
   "id": "d7063a45-be46-43f6-ab8d-132d6b8737b6",
   "metadata": {},
   "outputs": [
    {
     "data": {
      "text/plain": [
       "DecodingOptions(task='transcribe', language=None, temperature=0.0, sample_len=None, best_of=None, beam_size=None, patience=None, length_penalty=None, prompt=None, prefix=None, suppress_tokens='-1', suppress_blank=True, without_timestamps=False, max_initial_timestamp=1.0, fp16=False)"
      ]
     },
     "execution_count": 10,
     "metadata": {},
     "output_type": "execute_result"
    }
   ],
   "source": [
    "options = whisper.DecodingOptions(fp16 = False)\n",
    "result = whisper.decode(model, mel, options)\n",
    "options"
   ]
  },
  {
   "cell_type": "markdown",
   "id": "e5394a2d-861d-4cbb-82f8-c59e9f16ca72",
   "metadata": {},
   "source": [
    "## Print the recognized text"
   ]
  },
  {
   "cell_type": "code",
   "execution_count": 11,
   "id": "c537c3e9-51d8-4597-8509-852ac2ffab8b",
   "metadata": {},
   "outputs": [
    {
     "name": "stdout",
     "output_type": "stream",
     "text": [
      "Hello Mark, it's good to see you again. I hope you've been managing your stress and getting enough rest. Hello Dr. John, yes I've been trying my best. I've been using the relaxation techniques he suggested and I've made some changes to my sleep routine. That's great to hear Mark. I'm glad you're taking the proactive steps. Now let's discuss the results of your test. Your blood work came back normal which is a positive sign.\n"
     ]
    }
   ],
   "source": [
    "print(result.text)"
   ]
  },
  {
   "cell_type": "code",
   "execution_count": null,
   "id": "622fec7d-1927-4467-890d-dd9a2fded2e8",
   "metadata": {},
   "outputs": [],
   "source": []
  }
 ],
 "metadata": {
  "kernelspec": {
   "display_name": "Python 3 (ipykernel)",
   "language": "python",
   "name": "python3"
  },
  "language_info": {
   "codemirror_mode": {
    "name": "ipython",
    "version": 3
   },
   "file_extension": ".py",
   "mimetype": "text/x-python",
   "name": "python",
   "nbconvert_exporter": "python",
   "pygments_lexer": "ipython3",
   "version": "3.8.17"
  }
 },
 "nbformat": 4,
 "nbformat_minor": 5
}
