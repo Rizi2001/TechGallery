{
 "cells": [
  {
   "cell_type": "markdown",
   "id": "10143691-c3e0-4f75-952d-a17852fc0ee7",
   "metadata": {},
   "source": [
    "## Imports"
   ]
  },
  {
   "cell_type": "code",
   "execution_count": 3,
   "id": "62e5cb9c-9c19-4027-bb4a-8860938961b4",
   "metadata": {},
   "outputs": [],
   "source": [
    "from google.cloud import bigquery\n",
    "from sqlalchemy import *\n",
    "from sqlalchemy.engine import create_engine\n",
    "from sqlalchemy.schema import *\n",
    "import os\n",
    "from langchain.agents import create_sql_agent\n",
    "from langchain.agents.agent_toolkits import SQLDatabaseToolkit\n",
    "from langchain.sql_database import SQLDatabase\n",
    "from langchain.llms.openai import OpenAI\n",
    "from langchain.llms import VertexAI\n",
    "from langchain.agents import AgentExecutor"
   ]
  },
  {
   "cell_type": "markdown",
   "id": "65046892-4eee-467a-906c-553591bfb896",
   "metadata": {},
   "source": [
    "## Account Credentials for both; Vertex AI LLM and Bigquery"
   ]
  },
  {
   "cell_type": "code",
   "execution_count": 1,
   "id": "0125b2f4-08f1-4c7a-954e-b639fdcb8789",
   "metadata": {},
   "outputs": [],
   "source": [
    "service_account_file = ''#Path to your Google Cloud's Service Account Credentials JSON File"
   ]
  },
  {
   "cell_type": "code",
   "execution_count": 4,
   "id": "dc23c519-2579-4e0e-8edb-891f9cdc697a",
   "metadata": {},
   "outputs": [],
   "source": [
    "os.environ[\"GOOGLE_APPLICATION_CREDENTIALS\"] = ''#Path to your Google Cloud's Service Account Credentials JSON File"
   ]
  },
  {
   "cell_type": "code",
   "execution_count": 5,
   "id": "eaee8ba9-0535-4740-a389-7b861ae63db9",
   "metadata": {},
   "outputs": [],
   "source": [
    "# os.environ[\"OPENAI_API_KEY\"] = ''#OPEN AI API KEY"
   ]
  },
  {
   "cell_type": "markdown",
   "id": "0d17d296-f734-49c4-adcf-aece155489a7",
   "metadata": {},
   "source": [
    "## Bigquery Dataset Names"
   ]
  },
  {
   "cell_type": "code",
   "execution_count": 6,
   "id": "86699b1c-e653-4e83-affd-e043f09f3a98",
   "metadata": {},
   "outputs": [],
   "source": [
    "dataset = ''#Bigquery Dataset Name\n",
    "table = ''#Bigquery Dataset's Table Name\n",
    "project = ''#Google Cloud Project\n",
    "\n",
    "sqlalchemy_url = f'bigquery://{project}/{dataset}?credentials_path={service_account_file}'"
   ]
  },
  {
   "cell_type": "markdown",
   "id": "0b0d3bde-56ba-48e1-a310-554a4dc99d4b",
   "metadata": {},
   "source": [
    "## Lang-Chain Executing Agent to Query Big-query Data "
   ]
  },
  {
   "cell_type": "code",
   "execution_count": 96,
   "id": "860982f0-32e8-4a4a-8d49-2541f9b13d6a",
   "metadata": {},
   "outputs": [],
   "source": [
    "db = SQLDatabase.from_uri(sqlalchemy_url)\n",
    "\n",
    "llm = VertexAI(temperature=1, model=\"text-bison@001\")\n",
    "# llm = OpenAI(temperature=0.5, max_tokens=1000, model=\"text-davinci-003\")\n",
    "\n",
    "toolkit = SQLDatabaseToolkit(db=db, llm=llm)\n",
    "agent_executor = create_sql_agent(\n",
    "llm=llm,\n",
    "toolkit=toolkit,\n",
    "verbose=True,\n",
    "top_k=1000,\n",
    ")"
   ]
  },
  {
   "cell_type": "code",
   "execution_count": 98,
   "id": "a327fb7b-5058-423c-baee-a6945c196750",
   "metadata": {},
   "outputs": [
    {
     "name": "stdout",
     "output_type": "stream",
     "text": [
      "\n",
      "\n",
      "\u001b[1m> Entering new AgentExecutor chain...\u001b[0m\n",
      "\u001b[32;1m\u001b[1;3mAction: sql_db_list_tables\n",
      "Action Input: \u001b[0m\n",
      "Observation: \u001b[38;5;200m\u001b[1;3mPractice_Claims_Patient\u001b[0m\n",
      "Thought:\u001b[32;1m\u001b[1;3mI now know the tables in the database.\n",
      "Final Answer: Practice_Claims_Patient\u001b[0m\n",
      "\n",
      "\u001b[1m> Finished chain.\u001b[0m\n"
     ]
    },
    {
     "data": {
      "text/plain": [
       "'Practice_Claims_Patient'"
      ]
     },
     "execution_count": 98,
     "metadata": {},
     "output_type": "execute_result"
    }
   ],
   "source": [
    "agent_executor.run(\"show me the table you have\")"
   ]
  },
  {
   "cell_type": "code",
   "execution_count": null,
   "id": "7897e177-a9b7-414e-94fb-17ac650e01c1",
   "metadata": {},
   "outputs": [],
   "source": []
  }
 ],
 "metadata": {
  "kernelspec": {
   "display_name": "Python 3 (ipykernel)",
   "language": "python",
   "name": "python3"
  },
  "language_info": {
   "codemirror_mode": {
    "name": "ipython",
    "version": 3
   },
   "file_extension": ".py",
   "mimetype": "text/x-python",
   "name": "python",
   "nbconvert_exporter": "python",
   "pygments_lexer": "ipython3",
   "version": "3.8.17"
  }
 },
 "nbformat": 4,
 "nbformat_minor": 5
}
