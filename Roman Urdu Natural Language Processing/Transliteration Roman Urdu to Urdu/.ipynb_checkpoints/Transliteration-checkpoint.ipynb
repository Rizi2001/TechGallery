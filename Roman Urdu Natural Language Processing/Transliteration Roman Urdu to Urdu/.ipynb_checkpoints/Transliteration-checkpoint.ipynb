{
 "cells": [
  {
   "cell_type": "code",
   "execution_count": 5,
   "metadata": {
    "id": "KOrbDKeCwSeG"
   },
   "outputs": [],
   "source": [
    "from langdetect import detect"
   ]
  },
  {
   "cell_type": "markdown",
   "metadata": {
    "id": "3Q57gQs2yQx7"
   },
   "source": [
    "### roman characters unicode list to compare with input string's unicode"
   ]
  },
  {
   "cell_type": "code",
   "execution_count": 18,
   "metadata": {
    "id": "x5jBqlCfwrOR"
   },
   "outputs": [],
   "source": [
    "roman_unicode_list = {\n",
    "    u\"\\u0627\":\"a\",\n",
    "    u\"\\u0622\":\"aa\", \n",
    "    u\"\\u0628\":\"b\", \n",
    "    u\"\\u067E\":\"p\", \n",
    "    u\"\\u062A\":\"t\",  \n",
    "    u\"\\u062C\":\"j\", \n",
    "    u\"\\u0633\":\"s\", \n",
    "    u\"\\u0686\":\"ch\", \n",
    "    u\"\\u062D\":\"h\", \n",
    "    u\"\\u062E\":\"kh\", \n",
    "    u\"\\u062F\":\"d\",  \n",
    "    u\"\\u068E\":\"z\",  \n",
    "    u\"\\u0691\":\"r\", \n",
    "    u\"\\u0634\":\"sh\", \n",
    "    u\"\\u063A\":\"gh\", \n",
    "    u\"\\u0641\":\"f\", \n",
    "    u\"\\u0642\":\"k\", \n",
    "    u\"\\u06AF\":\"g\", \n",
    "    u\"\\u0644\":\"l\", \n",
    "    u\"\\u0645\":\"m\", \n",
    "    u\"\\u06BA\":\"n\", \n",
    "    u\"\\u0648\":\"o\",  \n",
    "    u\"\\u06CC\":\"y\", \n",
    "    u\"\\u06C1\":\"h\",\n",
    "    u\"\\u064A\":\"e\",\n",
    "    u\"\\u06C2\":\"ah\",\n",
    "    u\"\\u06BE\":\"h\",\n",
    "    u\"\\u0624\":\"o\", \n",
    "}"
   ]
  },
  {
   "cell_type": "markdown",
   "metadata": {
    "id": "zBaT6BTf5SRZ"
   },
   "source": [
    "### Transliterating from urdu to roman \n",
    "\n",
    "---\n",
    "\n"
   ]
  },
  {
   "cell_type": "code",
   "execution_count": 29,
   "metadata": {
    "id": "R_fJu7EkwOEF"
   },
   "outputs": [],
   "source": [
    "def urdu2roman(sen):\n",
    "  if (detect(sen) != 'ur'):\n",
    "    return\n",
    "  \n",
    "  sen.encode().decode('utf-8')\n",
    "\n",
    "  for k,v in roman_unicode_list.items():\n",
    "    sen=sen.replace(k,v)\n",
    "    # print(k)\n",
    "    # print(v)\n",
    "  \n",
    "  return sen"
   ]
  },
  {
   "cell_type": "code",
   "execution_count": 30,
   "metadata": {
    "colab": {
     "base_uri": "https://localhost:8080/",
     "height": 35
    },
    "id": "E6DBobQWw-QI",
    "outputId": "e50a27e6-e40e-4bfc-9fe2-c5bd12fe9f09"
   },
   "outputs": [
    {
     "data": {
      "application/vnd.google.colaboratory.intrinsic+json": {
       "type": "string"
      },
      "text/plain": [
       "'mعafy sے brh کے ab رha کya hے؟'"
      ]
     },
     "execution_count": 30,
     "metadata": {},
     "output_type": "execute_result"
    }
   ],
   "source": [
    "urdu2roman('معافی سے بڑھ کے اب رہا کیا ہے؟')"
   ]
  },
  {
   "cell_type": "markdown",
   "metadata": {
    "id": "4rWCHgDK5m2f"
   },
   "source": [
    "### urdu characters unicode list to compare with input string's unicode"
   ]
  },
  {
   "cell_type": "code",
   "execution_count": 38,
   "metadata": {
    "id": "7-CrSdr0zrYX"
   },
   "outputs": [],
   "source": [
    "urdu_unicode_list={\n",
    "    u\"\\u0627\":\"ا\",\n",
    "    u\"\\u0628\":\"ب\", \n",
    "    u\"\\u0622A\":\"ت\", \n",
    "    u\"\\u0679\":\"ٹ\", \n",
    "    u\"\\u062B\":\"ث\",  \n",
    "    u\"\\u062C\":\"ج\", \n",
    "    u\"\\u0686\":\"چ\", \n",
    "    u\"\\u062D\":\"ح\", \n",
    "    u\"\\u062E\":\"خ\",  \n",
    "    u\"\\u062F\":\"د\",  \n",
    "    u\"\\u0688\":\"ڈ\",  \n",
    "    u\"\\u0630\":\"ذ\", \n",
    "    u\"\\u0631\":\"ر\", \n",
    "    u\"\\u0691\":\"ڑ\", \n",
    "    u\"\\u0632\":\"ز\", \n",
    "    u\"\\u0698\":\"ژ\", \n",
    "    u\"\\u0633\":\"س\", \n",
    "    u\"\\u0634\":\"ش\", \n",
    "    u\"\\u0635\":\"ص\", \n",
    "    u\"\\u0636\":\"ض\", \n",
    "    u\"\\u0637\":\"ط\",  \n",
    "    u\"\\u0638\":\"ظ\", \n",
    "    u\"\\u0639\":\"ع\",\n",
    "    u\"\\u063A\":\"غ\",\n",
    "    u\"\\u0641\":\"ف\",\n",
    "    u\"\\u0642\":\"ق\",\n",
    "    u\"\\u06A9\":\"ک\", \n",
    "    u\"\\u0644\":\"ل\", \n",
    "    u\"\\u0645\":\"م\", \n",
    "    u\"\\u0646\":\"ن\", \n",
    "    u\"\\u0648\":\"و\", \n",
    "    u\"\\u06C1\":\"ہ\", \n",
    "    u\"\\u06BE\":\"ھ\",  \n",
    "    u\"\\u0621\":\"ء\", \n",
    "    u\"\\u06CC\":\"ی\",\n",
    "    u\"\\u06D2\":\"ے\",\n",
    "    u\"\\u0626\":\"ئ\",\n",
    "    u\"\\u06C3\":\"ۃ\", \n",
    "}"
   ]
  },
  {
   "cell_type": "markdown",
   "metadata": {
    "id": "SAV7zLVO5jLX"
   },
   "source": [
    "### Transliterating from roman to urdu "
   ]
  },
  {
   "cell_type": "code",
   "execution_count": 43,
   "metadata": {
    "id": "s0Kzad3kxFeY"
   },
   "outputs": [],
   "source": [
    "def roman2urdu(sen):\n",
    "\n",
    "  sen.encode().decode('utf-8')\n",
    "\n",
    "  for k,v in urdu_unicode_list.items():\n",
    "    sen=sen.replace(k,v)\n",
    "    # print(k)\n",
    "    # print(v)\n",
    "  \n",
    "  return sen"
   ]
  },
  {
   "cell_type": "code",
   "execution_count": 44,
   "metadata": {
    "colab": {
     "base_uri": "https://localhost:8080/",
     "height": 35
    },
    "id": "bdFnh_AN3gmn",
    "outputId": "cdcdd02b-01ac-4efa-863c-5225b1cfb978"
   },
   "outputs": [
    {
     "data": {
      "application/vnd.google.colaboratory.intrinsic+json": {
       "type": "string"
      },
      "text/plain": [
       "'maafi se aage bacha hee kia hai?'"
      ]
     },
     "execution_count": 44,
     "metadata": {},
     "output_type": "execute_result"
    }
   ],
   "source": [
    "roman2urdu('maafi se aage bacha hee kia hai?')"
   ]
  },
  {
   "cell_type": "code",
   "execution_count": 38,
   "metadata": {
    "id": "wCoW3GpD3m4m"
   },
   "outputs": [],
   "source": []
  },
  {
   "cell_type": "code",
   "execution_count": null,
   "metadata": {
    "id": "RXIHJQKT37B_"
   },
   "outputs": [],
   "source": []
  }
 ],
 "metadata": {
  "colab": {
   "collapsed_sections": [],
   "name": "i19-1851.ipynb",
   "provenance": []
  },
  "kernelspec": {
   "display_name": "Python 3",
   "language": "python",
   "name": "python3"
  },
  "language_info": {
   "codemirror_mode": {
    "name": "ipython",
    "version": 3
   },
   "file_extension": ".py",
   "mimetype": "text/x-python",
   "name": "python",
   "nbconvert_exporter": "python",
   "pygments_lexer": "ipython3",
   "version": "3.8.5"
  }
 },
 "nbformat": 4,
 "nbformat_minor": 1
}
