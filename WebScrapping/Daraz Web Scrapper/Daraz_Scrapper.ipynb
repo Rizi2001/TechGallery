{
 "cells": [
  {
   "cell_type": "markdown",
   "metadata": {},
   "source": [
    "### Import Statements"
   ]
  },
  {
   "cell_type": "code",
   "execution_count": 46,
   "metadata": {},
   "outputs": [],
   "source": [
    "from selenium import webdriver\n",
    "from webdriver_manager.chrome import ChromeDriverManager\n",
    "from bs4 import BeautifulSoup\n",
    "from selenium import webdriver\n",
    "import pandas as pd"
   ]
  },
  {
   "cell_type": "markdown",
   "metadata": {},
   "source": [
    "##### Taking User Input (In this case, 'Mobile Covers')"
   ]
  },
  {
   "cell_type": "code",
   "execution_count": 47,
   "metadata": {},
   "outputs": [],
   "source": [
    "user_input = 'Mobile Covers'"
   ]
  },
  {
   "cell_type": "markdown",
   "metadata": {},
   "source": [
    "##### Fetching the HTML using Selenium Driver and initialising a soup object"
   ]
  },
  {
   "cell_type": "code",
   "execution_count": 48,
   "metadata": {},
   "outputs": [],
   "source": [
    "driver = webdriver.Chrome(r\"C:\\Users\\ASD\\Downloads\\chromedriver_win32\\chromedriver\")\n",
    "\n",
    "search_url = \"https://www.daraz.pk/catalog/?spm=a2a0e.searchlistcategory.search.2.3eac4b8amQJ0zd&q={input}&_keyori=ss&from=suggest_normal&sugg=samsung%20m20_1_1\"\n",
    "\n",
    "driver.get(search_url.format(input=user_input))\n",
    "\n",
    "html = driver.page_source\n",
    "\n",
    "soup = BeautifulSoup(html)"
   ]
  },
  {
   "cell_type": "markdown",
   "metadata": {},
   "source": [
    "##### Fetches Total Sellers by searching the div class c1DXz4\n",
    "##### Fetches product names by div class c16H9d"
   ]
  },
  {
   "cell_type": "code",
   "execution_count": 49,
   "metadata": {},
   "outputs": [],
   "source": [
    "##  Total Sellers\n",
    "total_sellers = int((soup.find('div', {'class': 'c1DXz4'})).span.text.split()[0])\n",
    "                                                    \n",
    "# print(\"Total Sellers: \",total_sellers)\n",
    "\n",
    "##  Name\n",
    "all_names = soup.find_all('div', {'class': 'c16H9d'})\n",
    "item_name_list = []\n",
    "\n",
    "for name in all_names:\n",
    "    item_name_list.append(name.a.text)\n",
    "\n",
    "# print(item_name_list)"
   ]
  },
  {
   "cell_type": "markdown",
   "metadata": {},
   "source": [
    "###### Checks whether the product was in Daraz Mall or not by div class c3vCyH"
   ]
  },
  {
   "cell_type": "code",
   "execution_count": 50,
   "metadata": {},
   "outputs": [],
   "source": [
    "is_daraz_mall = soup.find_all('div', {'class': 'c3vCyH'})\n",
    "is_daraz_mall_list = []\n",
    "\n",
    "for daraz_mall in is_daraz_mall:\n",
    "    if((daraz_mall.i) == None):\n",
    "        is_daraz_mall_list.append(\"No\")\n",
    "    else:\n",
    "        is_daraz_mall_list.append(\"Yes\")\n",
    "\n",
    "# print(is_daraz_mall_list)"
   ]
  },
  {
   "cell_type": "markdown",
   "metadata": {},
   "source": [
    "##### Fetches the Original and Discounted Price by the div class c3lr34 & c3gUW0 respectively"
   ]
  },
  {
   "cell_type": "code",
   "execution_count": 51,
   "metadata": {},
   "outputs": [],
   "source": [
    "##  Original Price\n",
    "original_price = soup.find_all('div', {'class': 'c3lr34'})\n",
    "original_price_list = []\n",
    "\n",
    "for o_price in original_price:\n",
    "    if(o_price.span != None):\n",
    "        original_price_list.append(int((o_price.span.text[4:]).replace(',', '')))\n",
    "    else:\n",
    "        original_price_list.append(\"No Discount\")\n",
    "                    \n",
    "# print(original_price_list)\n",
    "\n",
    "##  Discounted Price\n",
    "discounted_price = soup.find_all('div', {'class': 'c3gUW0'})\n",
    "discounted_price_list = []\n",
    "        \n",
    "for d_price in discounted_price:\n",
    "    discounted_price_list.append(int((d_price.span.text[4:]).replace(',', '')))                \n",
    "\n",
    "# print(discounted_price_list)"
   ]
  },
  {
   "cell_type": "markdown",
   "metadata": {},
   "source": [
    "##### Fetches the total reviews by div class c15YQ9 and span class c3XbGJ"
   ]
  },
  {
   "cell_type": "code",
   "execution_count": 52,
   "metadata": {},
   "outputs": [],
   "source": [
    "reveiws = soup.find_all('div', {'class': 'c15YQ9'})\n",
    "reveiws_list = []\n",
    "\n",
    "for review in reveiws:\n",
    "    r = (review.find('span', {'class': 'c3XbGJ'}))\n",
    "    \n",
    "    if(r == None):\n",
    "        reveiws_list.append(0)\n",
    "    else:  \n",
    "        r = str(r.text)\n",
    "        reveiws_list.append(int(r[1:(len(r))-1]))\n",
    "\n",
    "# print(reveiws_list)"
   ]
  },
  {
   "cell_type": "markdown",
   "metadata": {},
   "source": [
    "##### Fetches the Seller Country by div class c15YQ9 and span class c2i43-"
   ]
  },
  {
   "cell_type": "code",
   "execution_count": 53,
   "metadata": {},
   "outputs": [],
   "source": [
    "seller_country = soup.find_all('div', {'class': 'c15YQ9'})\n",
    "seller_country_list = []\n",
    "\n",
    "for seller in seller_country:\n",
    "    s = (seller.find('span', {'class': 'c2i43-'}))\n",
    "    \n",
    "    seller_country_list.append(s.text)\n",
    "\n",
    "# print(seller_country_list)"
   ]
  },
  {
   "cell_type": "markdown",
   "metadata": {},
   "source": [
    "##### Calculates the product's rating by div class c15YQ9 and the following item tags"
   ]
  },
  {
   "cell_type": "code",
   "execution_count": 54,
   "metadata": {},
   "outputs": [],
   "source": [
    "ratings = soup.find_all('div', {'class': 'c15YQ9'})\n",
    "ratings_list = []\n",
    "\n",
    "star0 = 0.0\n",
    "star1 = 0.0\n",
    "star25 = 0.0\n",
    "star50 = 0.0\n",
    "star75 = 0.0\n",
    "\n",
    "for r in ratings:   \n",
    "    \n",
    "    if (str(r.i).find(\"c3dn4k c3EEAg\") > -1):\n",
    "        star1 += 1\n",
    "\n",
    "    if(r.i == None):\n",
    "        ratings_list.append(0)\n",
    "        continue\n",
    "        \n",
    "    for tag in r.i.next_siblings:        \n",
    "        if (str(tag).find(\"c3dn4k c3EEAg\") > -1):\n",
    "            star1 += 1.0\n",
    "            \n",
    "        elif (str(tag).find(\"c3dn4k c1dtTC\") > -1):\n",
    "            star0 += 0.0\n",
    "        \n",
    "        elif (str(tag).find(\"c3dn4k c3An30\") > -1):\n",
    "            star50 += 0.5\n",
    "        \n",
    "        elif (str(tag).find('c3dn4k c1Zozd') > -1): \n",
    "            star25 += 0.25\n",
    "        \n",
    "        elif (str(tag).find('c3dn4k c1wCjy') > -1):\n",
    "            star75 += 0.75\n",
    "            \n",
    "    total_sum = star1 + star25 + star50 + star75 \n",
    "    ratings_list.append(total_sum)\n",
    "    \n",
    "    star0 = 0.0\n",
    "    star1 = 0.0\n",
    "    star25 = 0.0\n",
    "    star50 = 0.0\n",
    "    star75 = 0.0\n",
    "\n",
    "# print(ratings_list)"
   ]
  },
  {
   "cell_type": "markdown",
   "metadata": {},
   "source": [
    "##### Creating a Data Frame using all the previously created lists"
   ]
  },
  {
   "cell_type": "code",
   "execution_count": 55,
   "metadata": {},
   "outputs": [],
   "source": [
    "data_frame = pd.DataFrame(list(zip(item_name_list, is_daraz_mall_list, original_price_list, discounted_price_list, ratings_list, reveiws_list, seller_country_list)), columns = ['Name', 'Daraz Mall?', 'Original Price', 'Discounted Price', 'Rating', 'Reviews', 'Seller Country'])"
   ]
  },
  {
   "cell_type": "markdown",
   "metadata": {},
   "source": [
    "## Final Output pt. 1"
   ]
  },
  {
   "cell_type": "code",
   "execution_count": 56,
   "metadata": {},
   "outputs": [
    {
     "name": "stdout",
     "output_type": "stream",
     "text": [
      "Total Seller: 1599866 \n",
      " Avg Price: 488.325 \n",
      " Avg Reviews: 51.55 \n",
      " Avg Rating: 4.2375\n"
     ]
    }
   ],
   "source": [
    "print(\"Total Seller:\", total_sellers,\"\\n\",\"Avg Price:\", data_frame['Discounted Price'].mean(),\"\\n\",\"Avg Reviews:\", data_frame['Reviews'].mean(),\"\\n\",\"Avg Rating:\", data_frame['Rating'].mean())"
   ]
  },
  {
   "cell_type": "markdown",
   "metadata": {},
   "source": [
    "## Final Output pt. 2"
   ]
  },
  {
   "cell_type": "code",
   "execution_count": 57,
   "metadata": {},
   "outputs": [
    {
     "data": {
      "text/html": [
       "<div>\n",
       "<style scoped>\n",
       "    .dataframe tbody tr th:only-of-type {\n",
       "        vertical-align: middle;\n",
       "    }\n",
       "\n",
       "    .dataframe tbody tr th {\n",
       "        vertical-align: top;\n",
       "    }\n",
       "\n",
       "    .dataframe thead th {\n",
       "        text-align: right;\n",
       "    }\n",
       "</style>\n",
       "<table border=\"1\" class=\"dataframe\">\n",
       "  <thead>\n",
       "    <tr style=\"text-align: right;\">\n",
       "      <th></th>\n",
       "      <th>Name</th>\n",
       "      <th>Daraz Mall?</th>\n",
       "      <th>Original Price</th>\n",
       "      <th>Discounted Price</th>\n",
       "      <th>Rating</th>\n",
       "      <th>Reviews</th>\n",
       "      <th>Seller Country</th>\n",
       "    </tr>\n",
       "  </thead>\n",
       "  <tbody>\n",
       "    <tr>\n",
       "      <th>0</th>\n",
       "      <td>Nillkin Case for iPhone 12 Pro Max Slide Camer...</td>\n",
       "      <td>Yes</td>\n",
       "      <td>2020</td>\n",
       "      <td>1699</td>\n",
       "      <td>4.75</td>\n",
       "      <td>24</td>\n",
       "      <td>China</td>\n",
       "    </tr>\n",
       "    <tr>\n",
       "      <th>1</th>\n",
       "      <td>Nillkin Case for Xiaomi Mi 10T And Mi 10T Pro ...</td>\n",
       "      <td>Yes</td>\n",
       "      <td>2020</td>\n",
       "      <td>1469</td>\n",
       "      <td>4.00</td>\n",
       "      <td>112</td>\n",
       "      <td>China</td>\n",
       "    </tr>\n",
       "    <tr>\n",
       "      <th>2</th>\n",
       "      <td>Cartoon Pop Socket for Mobiles</td>\n",
       "      <td>No</td>\n",
       "      <td>400</td>\n",
       "      <td>119</td>\n",
       "      <td>5.00</td>\n",
       "      <td>6</td>\n",
       "      <td>Pakistan</td>\n",
       "    </tr>\n",
       "    <tr>\n",
       "      <th>3</th>\n",
       "      <td>Customized Universal Mobile Back Cover</td>\n",
       "      <td>No</td>\n",
       "      <td>1000</td>\n",
       "      <td>534</td>\n",
       "      <td>4.00</td>\n",
       "      <td>79</td>\n",
       "      <td>Pakistan</td>\n",
       "    </tr>\n",
       "    <tr>\n",
       "      <th>4</th>\n",
       "      <td>Customized Universal Mobile Back Cover</td>\n",
       "      <td>No</td>\n",
       "      <td>1000</td>\n",
       "      <td>570</td>\n",
       "      <td>4.00</td>\n",
       "      <td>44</td>\n",
       "      <td>Pakistan</td>\n",
       "    </tr>\n",
       "  </tbody>\n",
       "</table>\n",
       "</div>"
      ],
      "text/plain": [
       "                                                Name Daraz Mall?  \\\n",
       "0  Nillkin Case for iPhone 12 Pro Max Slide Camer...         Yes   \n",
       "1  Nillkin Case for Xiaomi Mi 10T And Mi 10T Pro ...         Yes   \n",
       "2                     Cartoon Pop Socket for Mobiles          No   \n",
       "3             Customized Universal Mobile Back Cover          No   \n",
       "4             Customized Universal Mobile Back Cover          No   \n",
       "\n",
       "  Original Price  Discounted Price  Rating  Reviews Seller Country  \n",
       "0           2020              1699    4.75       24          China  \n",
       "1           2020              1469    4.00      112          China  \n",
       "2            400               119    5.00        6       Pakistan  \n",
       "3           1000               534    4.00       79       Pakistan  \n",
       "4           1000               570    4.00       44       Pakistan  "
      ]
     },
     "execution_count": 57,
     "metadata": {},
     "output_type": "execute_result"
    }
   ],
   "source": [
    "data_frame.head()"
   ]
  },
  {
   "cell_type": "code",
   "execution_count": null,
   "metadata": {},
   "outputs": [],
   "source": []
  }
 ],
 "metadata": {
  "kernelspec": {
   "display_name": "Python 3",
   "language": "python",
   "name": "python3"
  },
  "language_info": {
   "codemirror_mode": {
    "name": "ipython",
    "version": 3
   },
   "file_extension": ".py",
   "mimetype": "text/x-python",
   "name": "python",
   "nbconvert_exporter": "python",
   "pygments_lexer": "ipython3",
   "version": "3.8.5"
  }
 },
 "nbformat": 4,
 "nbformat_minor": 4
}
