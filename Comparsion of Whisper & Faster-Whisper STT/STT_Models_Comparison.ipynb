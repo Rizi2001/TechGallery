{
 "cells": [
  {
   "cell_type": "markdown",
   "metadata": {},
   "source": [
    "# Speech to Text Models' Inference and Comparison of Results and Benchmarks"
   ]
  },
  {
   "cell_type": "markdown",
   "metadata": {},
   "source": [
    "### Simulated Patient Doctor Audio Conversation lasting for 3 minutes 27 seconds"
   ]
  },
  {
   "cell_type": "markdown",
   "metadata": {},
   "source": [
    "### OpenAI Whisper large-V2 Inference for 1 minute: 26.4s"
   ]
  },
  {
   "cell_type": "markdown",
   "metadata": {},
   "source": [
    "### SYSTRAN Faster-Whisper large-V2 Inference for 1 minute: 1.3s"
   ]
  },
  {
   "cell_type": "code",
   "execution_count": null,
   "metadata": {},
   "outputs": [],
   "source": []
  },
  {
   "cell_type": "code",
   "execution_count": 1,
   "metadata": {},
   "outputs": [],
   "source": [
    "file_path = 'Patient_Doctor_First_Convo.mp3'"
   ]
  },
  {
   "cell_type": "markdown",
   "metadata": {},
   "source": [
    "### Whisper Large-V2 Model"
   ]
  },
  {
   "cell_type": "markdown",
   "metadata": {},
   "source": [
    "#### 10563 MiB of VRAM on GeForce GTX 1080 Ti (Approx. 11 GB of VRAM)"
   ]
  },
  {
   "cell_type": "markdown",
   "metadata": {},
   "source": [
    "#### https://github.com/openai/whisper"
   ]
  },
  {
   "cell_type": "code",
   "execution_count": 4,
   "metadata": {},
   "outputs": [],
   "source": [
    "import whisper\n",
    "import torch\n",
    "import time\n",
    "\n",
    "device  = (\"cuda\" if torch.cuda.is_available() else \"mps\" if torch.backends.mps.is_available() else \"cpu\")\n",
    "\n",
    "whisper_model = whisper.load_model(\"/data/rizwan_karim/rs_dev_restored/model/large-v2.pt\", device= device)\n",
    "\n",
    "start_time = time.time()\n",
    "\n",
    "result = whisper_model.transcribe(file_path)\n",
    "\n",
    "end_time = time.time() - start_time"
   ]
  },
  {
   "cell_type": "code",
   "execution_count": 5,
   "metadata": {},
   "outputs": [
    {
     "data": {
      "text/plain": [
       "\" Hello, good morning Mark. How are you feeling today? Good afternoon doctor. I was doing fine until I came back from my holiday trip. Oh really? Where did you go for the holidays? I went to Karachi to go to the beach and spend some sea time. Oh that's great. Karachi is good this time of the year. Not so hot, not so cold. Plus, who doesn't like sea and beach? Anyways, how did you end up here? Coming to the real question. I've been experiencing some troubling symptoms lately. I've had persistent headaches, occasional dizziness, and I've been feeling unusually fatigued. When did these symptoms start? I first noticed the headaches about two weeks ago. The dizziness comes and goes and the fatigue has been lingering for about a month now. I thought it might be stress related, but it's been getting worse. Alright, let me just look it into here. Okay, so I see. Thank you for sharing the information. Stress can certainly impact your health, but we need to rule out other possibilities too. Have you noticed any change in your vision or numbness or weakness in your limbs? No, my vision seems fine and I haven't experienced any numbness or weakness. It's mostly these headaches and the feeling of light-headedness that worry me. Alright, okay, I appreciate the details. Let's do a brief physical examination to start. I'll check your blood pressure, pulse, and conduct a neurological examination to assess your cranial nerves, reflexes, and coordination. Okay, so please lie down on this bed and lay flat and then let's start with the examination. Okay, that's great. Now, I want you to look straight into my fingers and when I move my finger right, I need you to turn your eyes to the right. Okay, and now the same for the left side. Okay, that's great. So your blood pressure and pulse are within normal range, which is a positive sign. Neurologically, everything appears to be normal. Given your symptoms, I'd like to run some tests to rule out the potential causes. We'll do maybe a blood test to check for any signs of an infection or abnormalities, and an MRI to get a detailed view of your brain. Okay, I'm willing to do whatever it takes to find out what's going on. In the meantime, could this be related to my lifestyle? I've been under a lot of pressure at work and my sleep has been pretty disrupted. Stress, yes. Stress and lack of sleep can certainly contribute to symptoms like these. While we investigate further, it's crucial for you to manage your stress. Try maybe relaxation techniques like deep breathing or meditation. Also, ensure you're getting enough sleep. Aim for 7-8 hours per night at least. And additionally, keep track of your headaches. Notice their frequency, intensity, and any triggers you might identify. That makes sense. I'll start working on managing my stress better and getting more sleep. I'll keep a headache diary too. Hopefully these changes will help. Definitely! And we'll work together to figure this out. I'll schedule the blood test and an MRI for you. In the meantime, if your symptoms worsen or if you experience any new symptoms, please don't hesitate to contact me. We'll stay on top of this and ensure you get the best care possible. Thank you, Dr. John. I appreciate your help and understanding. I'll get those tests done and update you on my progress. Okay, you're welcome, Mark. No worries over there. We'll meet soon again when we have the complete test results. Goodbye.\""
      ]
     },
     "execution_count": 5,
     "metadata": {},
     "output_type": "execute_result"
    }
   ],
   "source": [
    "result[\"text\"]"
   ]
  },
  {
   "cell_type": "code",
   "execution_count": 6,
   "metadata": {},
   "outputs": [
    {
     "name": "stdout",
     "output_type": "stream",
     "text": [
      "Inference Time:  92.49082779884338\n"
     ]
    }
   ],
   "source": [
    "print(\"Inference Time: \", end_time)"
   ]
  },
  {
   "cell_type": "code",
   "execution_count": null,
   "metadata": {},
   "outputs": [],
   "source": []
  },
  {
   "cell_type": "markdown",
   "metadata": {},
   "source": [
    "### Faster-Whisper Large-V2"
   ]
  },
  {
   "cell_type": "markdown",
   "metadata": {},
   "source": [
    "#### 9319 MiB of VRAM on GeForce GTX 1080 Ti (Approx. 11 GB of VRAM)"
   ]
  },
  {
   "cell_type": "markdown",
   "metadata": {},
   "source": [
    "#### https://github.com/SYSTRAN/faster-whisper"
   ]
  },
  {
   "cell_type": "code",
   "execution_count": 1,
   "metadata": {},
   "outputs": [
    {
     "name": "stderr",
     "output_type": "stream",
     "text": [
      "[2023-12-07 09:52:18.496] [ctranslate2] [thread 591364] [warning] The compute type inferred from the saved model is float16, but the target device or backend do not support efficient float16 computation. The model weights have been automatically converted to use the float32 compute type instead.\n",
      "Estimating duration from bitrate, this may be inaccurate\n"
     ]
    },
    {
     "name": "stdout",
     "output_type": "stream",
     "text": [
      "Detected language 'en' with probability 0.921098\n"
     ]
    }
   ],
   "source": [
    "from faster_whisper import WhisperModel\n",
    "import time\n",
    "#import faster_whisper\n",
    "model_size = \"large-v2\"\n",
    "\n",
    "# Run on GPU with FP16\n",
    "# model = WhisperModel(model_size, device=\"cuda\", compute_type=\"float8\")\n",
    "\n",
    "# or run on CPU with INT8\n",
    "# model = WhisperModel(model_size, device=\"cpu\", compute_type=\"int8\")\n",
    "\n",
    "model = WhisperModel(model_size, device=\"cuda\")\n",
    "\n",
    "start_time = time.time()\n",
    "\n",
    "segments, info = model.transcribe(file_path, beam_size=1)\n",
    "\n",
    "print(\"Detected language '%s' with probability %f\" % (info.language, info.language_probability))\n",
    "\n",
    "end_time = time.time() - start_time\n",
    "result=''\n",
    "\n",
    "for segment in segments:\n",
    "    # print(\"[%.2fs -> %.2fs] %s\" % (segment.start, segment.end, segment.text))\n",
    "    # print(segment.text)\n",
    "    result += segment.text\n",
    "    # print(result)\n",
    "    "
   ]
  },
  {
   "cell_type": "code",
   "execution_count": 2,
   "metadata": {},
   "outputs": [
    {
     "data": {
      "text/plain": [
       "\" Hello, good morning Mark. How are you feeling today? Good afternoon doctor. I was doing fine until I came back from my holiday trip. Oh really? Where did you go for the holidays? I went to Karachi to go to the beach and spend some sea time. Oh that's great. Karachi is good this time of the year. Not so hot, not so cold. Plus, who doesn't like sea and beach? Anyways, how did you end up here? Coming to the real question. I've been experiencing some troubling symptoms lately. I've had persistent headaches, occasional dizziness, and I've been feeling unusually fatigued. When did these symptoms start? I first noticed the headaches about two weeks ago. The dizziness comes and goes and the fatigue has been lingering for about a month now. I thought it might be stress related, but it's been getting worse. Alright, let me just look it into here. Okay, so I see. Thank you for sharing the information. Stress can certainly impact your health, but we need to rule out other possibilities too. Have you noticed any change in your vision or numbness or weakness in your limbs? No, my vision seems fine and I haven't experienced any numbness or weakness. It's mostly these headaches and the feeling of light-headedness that worry me. Alright, okay, I appreciate the details. Let's do a brief physical examination to start. I'll check your blood pressure, pulse, and conduct a neurological examination to assess your cranial nerves, reflexes, and coordination. Okay, so please lie down on this bed and lay flat and then let's start with the examination. Okay, that's great. Now, I want you to look straight into my fingers and when I move my finger right, I need you to turn your eyes to the right. Okay, and now the same for the left side. Okay, that's great. So your blood pressure and pulse are within normal range, which is a positive sign. Neurologically, everything appears to be normal. Given your symptoms, I'd like to run some tests to rule out the potential causes. We'll do maybe a blood test to check for any signs of an infection or abnormalities, and an MRI to get a detailed view of your brain. Okay, I'm willing to do whatever it takes to find out what's going on. In the meantime, could this be related to my lifestyle? I've been under a lot of pressure at work and my sleep has been pretty disrupted. Stress, yes. Stress and lack of sleep can certainly contribute to symptoms like these. While we investigate further, it's crucial for you to manage your stress. Try maybe relaxation techniques like deep breathing or meditation. Also, ensure you're getting enough sleep. Aim for 7-8 hours per night at least. And additionally, keep track of your headaches. Notice their frequency, intensity, and any triggers you might identify. That makes sense. I'll start working on managing my stress better and getting more sleep. I'll keep a headache diary too. Hopefully these changes will help. Definitely! And we'll work together to figure this out. I'll schedule the blood test and an MRI for you. In the meantime, if your symptoms worsen or if you experience any new symptoms, please don't hesitate to contact me. We'll stay on top of this and ensure you get the best care possible. Thank you, Dr. John. I appreciate your help and understanding. I'll get those tests done and update you on my progress. Okay, you're welcome, Mark. No worries over there. We'll meet soon again when we have the complete test results. Goodbye.\""
      ]
     },
     "execution_count": 2,
     "metadata": {},
     "output_type": "execute_result"
    }
   ],
   "source": [
    "result"
   ]
  },
  {
   "cell_type": "code",
   "execution_count": 3,
   "metadata": {},
   "outputs": [
    {
     "name": "stdout",
     "output_type": "stream",
     "text": [
      "Inference Time:  4.601823568344116\n"
     ]
    }
   ],
   "source": [
    "print(\"Inference Time: \", end_time)"
   ]
  },
  {
   "cell_type": "code",
   "execution_count": null,
   "metadata": {},
   "outputs": [],
   "source": []
  }
 ],
 "metadata": {
  "kernelspec": {
   "display_name": "Python 3 (ipykernel)",
   "language": "python",
   "name": "python3"
  },
  "language_info": {
   "codemirror_mode": {
    "name": "ipython",
    "version": 3
   },
   "file_extension": ".py",
   "mimetype": "text/x-python",
   "name": "python",
   "nbconvert_exporter": "python",
   "pygments_lexer": "ipython3",
   "version": "3.8.17"
  }
 },
 "nbformat": 4,
 "nbformat_minor": 4
}
